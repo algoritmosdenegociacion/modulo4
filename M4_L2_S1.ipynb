{
  "nbformat": 4,
  "nbformat_minor": 0,
  "metadata": {
    "colab": {
      "name": "M4-L2-S1",
      "provenance": [],
      "include_colab_link": true
    },
    "kernelspec": {
      "name": "python3",
      "display_name": "Python 3"
    },
    "language_info": {
      "name": "python"
    }
  },
  "cells": [
    {
      "cell_type": "markdown",
      "metadata": {
        "id": "view-in-github",
        "colab_type": "text"
      },
      "source": [
        "<a href=\"https://colab.research.google.com/github/algoritmosdenegociacion/modulo4/blob/main/M4_L2_S1.ipynb\" target=\"_parent\"><img src=\"https://colab.research.google.com/assets/colab-badge.svg\" alt=\"Open In Colab\"/></a>"
      ]
    },
    {
      "cell_type": "markdown",
      "metadata": {
        "id": "HDMUuXGmB_q1"
      },
      "source": [
        "# Algoritmos de Negociación basados en Machine Learning - Módulo 4\n",
        "- Sergio Andrés Cabrales, Ph.D., Universidad de los Andes \n",
        "- Juan Pablo Cortés, T.A., Universidad de los Andes\n",
        "- Juan David Pava, T.A., Universidad de los Andes\n",
        "\n",
        "https://github.com/algoritmosdenegociacion/"
      ]
    },
    {
      "cell_type": "markdown",
      "metadata": {
        "id": "CSr9zTNECaPv"
      },
      "source": [
        "## 1. Carga de librerías, funciones y APIs necesarias.\n"
      ]
    },
    {
      "cell_type": "markdown",
      "metadata": {
        "id": "mF4dwMlYCb8D"
      },
      "source": [
        "#### 1.1. Instalan las librerías que no incluye Google Colab"
      ]
    },
    {
      "cell_type": "code",
      "metadata": {
        "id": "aKnoONgqf_EC",
        "colab": {
          "base_uri": "https://localhost:8080/"
        },
        "outputId": "7facd585-0d23-4930-a747-449a603415c4"
      },
      "source": [
        "pip install yfinance"
      ],
      "execution_count": null,
      "outputs": [
        {
          "output_type": "stream",
          "name": "stdout",
          "text": [
            "Collecting yfinance\n",
            "  Downloading yfinance-0.1.63.tar.gz (26 kB)\n",
            "Requirement already satisfied: pandas>=0.24 in /usr/local/lib/python3.7/dist-packages (from yfinance) (1.1.5)\n",
            "Requirement already satisfied: numpy>=1.15 in /usr/local/lib/python3.7/dist-packages (from yfinance) (1.19.5)\n",
            "Requirement already satisfied: requests>=2.20 in /usr/local/lib/python3.7/dist-packages (from yfinance) (2.23.0)\n",
            "Requirement already satisfied: multitasking>=0.0.7 in /usr/local/lib/python3.7/dist-packages (from yfinance) (0.0.9)\n",
            "Collecting lxml>=4.5.1\n",
            "  Downloading lxml-4.6.3-cp37-cp37m-manylinux2014_x86_64.whl (6.3 MB)\n",
            "\u001b[K     |████████████████████████████████| 6.3 MB 7.6 MB/s \n",
            "\u001b[?25hRequirement already satisfied: python-dateutil>=2.7.3 in /usr/local/lib/python3.7/dist-packages (from pandas>=0.24->yfinance) (2.8.2)\n",
            "Requirement already satisfied: pytz>=2017.2 in /usr/local/lib/python3.7/dist-packages (from pandas>=0.24->yfinance) (2018.9)\n",
            "Requirement already satisfied: six>=1.5 in /usr/local/lib/python3.7/dist-packages (from python-dateutil>=2.7.3->pandas>=0.24->yfinance) (1.15.0)\n",
            "Requirement already satisfied: urllib3!=1.25.0,!=1.25.1,<1.26,>=1.21.1 in /usr/local/lib/python3.7/dist-packages (from requests>=2.20->yfinance) (1.24.3)\n",
            "Requirement already satisfied: certifi>=2017.4.17 in /usr/local/lib/python3.7/dist-packages (from requests>=2.20->yfinance) (2021.5.30)\n",
            "Requirement already satisfied: chardet<4,>=3.0.2 in /usr/local/lib/python3.7/dist-packages (from requests>=2.20->yfinance) (3.0.4)\n",
            "Requirement already satisfied: idna<3,>=2.5 in /usr/local/lib/python3.7/dist-packages (from requests>=2.20->yfinance) (2.10)\n",
            "Building wheels for collected packages: yfinance\n",
            "  Building wheel for yfinance (setup.py) ... \u001b[?25l\u001b[?25hdone\n",
            "  Created wheel for yfinance: filename=yfinance-0.1.63-py2.py3-none-any.whl size=23918 sha256=dfb5c87d64e80b20210a61b39cdf80ca69c082e18460b531514d06c6a761f7d7\n",
            "  Stored in directory: /root/.cache/pip/wheels/fe/87/8b/7ec24486e001d3926537f5f7801f57a74d181be25b11157983\n",
            "Successfully built yfinance\n",
            "Installing collected packages: lxml, yfinance\n",
            "  Attempting uninstall: lxml\n",
            "    Found existing installation: lxml 4.2.6\n",
            "    Uninstalling lxml-4.2.6:\n",
            "      Successfully uninstalled lxml-4.2.6\n",
            "Successfully installed lxml-4.6.3 yfinance-0.1.63\n"
          ]
        }
      ]
    },
    {
      "cell_type": "code",
      "metadata": {
        "id": "7wCoftrqrreP",
        "colab": {
          "base_uri": "https://localhost:8080/"
        },
        "outputId": "94017f48-7adc-43ab-be7b-a427c7257898"
      },
      "source": [
        "pip install ta"
      ],
      "execution_count": null,
      "outputs": [
        {
          "output_type": "stream",
          "name": "stdout",
          "text": [
            "Collecting ta\n",
            "  Downloading ta-0.7.0.tar.gz (25 kB)\n",
            "Requirement already satisfied: numpy in /usr/local/lib/python3.7/dist-packages (from ta) (1.19.5)\n",
            "Requirement already satisfied: pandas in /usr/local/lib/python3.7/dist-packages (from ta) (1.1.5)\n",
            "Requirement already satisfied: python-dateutil>=2.7.3 in /usr/local/lib/python3.7/dist-packages (from pandas->ta) (2.8.2)\n",
            "Requirement already satisfied: pytz>=2017.2 in /usr/local/lib/python3.7/dist-packages (from pandas->ta) (2018.9)\n",
            "Requirement already satisfied: six>=1.5 in /usr/local/lib/python3.7/dist-packages (from python-dateutil>=2.7.3->pandas->ta) (1.15.0)\n",
            "Building wheels for collected packages: ta\n",
            "  Building wheel for ta (setup.py) ... \u001b[?25l\u001b[?25hdone\n",
            "  Created wheel for ta: filename=ta-0.7.0-py3-none-any.whl size=28718 sha256=b350251699f2c209f55188bd09a2c590024c5d313d12ac300013f79d55140bbd\n",
            "  Stored in directory: /root/.cache/pip/wheels/5e/74/e0/72395003bd1d3c8f3f5860c2d180ff15699e47a2733d8ebd38\n",
            "Successfully built ta\n",
            "Installing collected packages: ta\n",
            "Successfully installed ta-0.7.0\n"
          ]
        }
      ]
    },
    {
      "cell_type": "markdown",
      "metadata": {
        "id": "6zaoGOtoCjPq"
      },
      "source": [
        "#### 1.2. Se cargan las librerías necesarias"
      ]
    },
    {
      "cell_type": "code",
      "metadata": {
        "id": "cVO4GoZZCgc8"
      },
      "source": [
        "# Funciones numéricas adicionales\n",
        "import numpy as np\n",
        "\n",
        "# Lectura de datos y manejo de Data-sets\n",
        "import pandas as pd\n",
        "\n",
        "# Datos\n",
        "import yfinance as yfin\n",
        "\n",
        "# Gráficos \n",
        "import matplotlib.pyplot as plt\n",
        "\n",
        "# Análisis Técnico\n",
        "import ta\n",
        "\n",
        "# Funciones \n",
        "from sklearn.model_selection import train_test_split\n",
        "from sklearn.preprocessing import StandardScaler\n",
        "\n",
        "# Medidas de desempeño\n",
        "from sklearn.metrics import confusion_matrix\n",
        "from sklearn.metrics import plot_roc_curve\n",
        "from sklearn.metrics import accuracy_score\n",
        "\n",
        "# Support Vector Machine (SVM) / Support Vector Classification (SVC)\n",
        "from sklearn.svm import SVC\n",
        "\n",
        "# Decision Tree Classifier\n",
        "from sklearn.tree import DecisionTreeClassifier\n",
        "\n",
        "# Random Forest Classifier\n",
        "from sklearn.ensemble import RandomForestClassifier\n",
        "\n",
        "# Redes Neuronales / Multi-layer Perceptron (MLP) \n",
        "from sklearn.neural_network import MLPClassifier"
      ],
      "execution_count": null,
      "outputs": []
    },
    {
      "cell_type": "markdown",
      "metadata": {
        "id": "0Dvota99Cn_O"
      },
      "source": [
        "## 2. Obtención de datos históricos\n"
      ]
    },
    {
      "cell_type": "markdown",
      "metadata": {
        "id": "R_4CbC3JCq--"
      },
      "source": [
        "https://finance.yahoo.com/"
      ]
    },
    {
      "cell_type": "code",
      "metadata": {
        "id": "7z9AKmNdCr7v",
        "colab": {
          "base_uri": "https://localhost:8080/",
          "height": 469
        },
        "outputId": "c2c3198e-9289-4304-aaa2-0ca285a96455"
      },
      "source": [
        "# Descargamos datos de USD-JPY\n",
        "df = yfin.download('JPY=X',start='2016-01-01', end='2021-01-01')\n",
        "df"
      ],
      "execution_count": null,
      "outputs": [
        {
          "output_type": "stream",
          "name": "stdout",
          "text": [
            "\r[*********************100%***********************]  1 of 1 completed\n"
          ]
        },
        {
          "output_type": "execute_result",
          "data": {
            "text/html": [
              "<div>\n",
              "<style scoped>\n",
              "    .dataframe tbody tr th:only-of-type {\n",
              "        vertical-align: middle;\n",
              "    }\n",
              "\n",
              "    .dataframe tbody tr th {\n",
              "        vertical-align: top;\n",
              "    }\n",
              "\n",
              "    .dataframe thead th {\n",
              "        text-align: right;\n",
              "    }\n",
              "</style>\n",
              "<table border=\"1\" class=\"dataframe\">\n",
              "  <thead>\n",
              "    <tr style=\"text-align: right;\">\n",
              "      <th></th>\n",
              "      <th>Open</th>\n",
              "      <th>High</th>\n",
              "      <th>Low</th>\n",
              "      <th>Close</th>\n",
              "      <th>Adj Close</th>\n",
              "      <th>Volume</th>\n",
              "    </tr>\n",
              "    <tr>\n",
              "      <th>Date</th>\n",
              "      <th></th>\n",
              "      <th></th>\n",
              "      <th></th>\n",
              "      <th></th>\n",
              "      <th></th>\n",
              "      <th></th>\n",
              "    </tr>\n",
              "  </thead>\n",
              "  <tbody>\n",
              "    <tr>\n",
              "      <th>2016-01-01</th>\n",
              "      <td>120.288002</td>\n",
              "      <td>120.288002</td>\n",
              "      <td>120.288002</td>\n",
              "      <td>120.288002</td>\n",
              "      <td>120.288002</td>\n",
              "      <td>0</td>\n",
              "    </tr>\n",
              "    <tr>\n",
              "      <th>2016-01-04</th>\n",
              "      <td>120.317001</td>\n",
              "      <td>120.447998</td>\n",
              "      <td>118.720001</td>\n",
              "      <td>120.310997</td>\n",
              "      <td>120.310997</td>\n",
              "      <td>0</td>\n",
              "    </tr>\n",
              "    <tr>\n",
              "      <th>2016-01-05</th>\n",
              "      <td>119.473999</td>\n",
              "      <td>119.680000</td>\n",
              "      <td>118.801003</td>\n",
              "      <td>119.467003</td>\n",
              "      <td>119.467003</td>\n",
              "      <td>0</td>\n",
              "    </tr>\n",
              "    <tr>\n",
              "      <th>2016-01-06</th>\n",
              "      <td>119.099998</td>\n",
              "      <td>119.150002</td>\n",
              "      <td>118.260002</td>\n",
              "      <td>119.101997</td>\n",
              "      <td>119.101997</td>\n",
              "      <td>0</td>\n",
              "    </tr>\n",
              "    <tr>\n",
              "      <th>2016-01-07</th>\n",
              "      <td>118.609001</td>\n",
              "      <td>118.752998</td>\n",
              "      <td>117.363998</td>\n",
              "      <td>118.610001</td>\n",
              "      <td>118.610001</td>\n",
              "      <td>0</td>\n",
              "    </tr>\n",
              "    <tr>\n",
              "      <th>...</th>\n",
              "      <td>...</td>\n",
              "      <td>...</td>\n",
              "      <td>...</td>\n",
              "      <td>...</td>\n",
              "      <td>...</td>\n",
              "      <td>...</td>\n",
              "    </tr>\n",
              "    <tr>\n",
              "      <th>2020-12-28</th>\n",
              "      <td>103.526001</td>\n",
              "      <td>103.893997</td>\n",
              "      <td>103.400002</td>\n",
              "      <td>103.532997</td>\n",
              "      <td>103.532997</td>\n",
              "      <td>0</td>\n",
              "    </tr>\n",
              "    <tr>\n",
              "      <th>2020-12-29</th>\n",
              "      <td>103.691002</td>\n",
              "      <td>103.791000</td>\n",
              "      <td>103.466003</td>\n",
              "      <td>103.689003</td>\n",
              "      <td>103.689003</td>\n",
              "      <td>0</td>\n",
              "    </tr>\n",
              "    <tr>\n",
              "      <th>2020-12-30</th>\n",
              "      <td>103.552002</td>\n",
              "      <td>103.570000</td>\n",
              "      <td>102.962997</td>\n",
              "      <td>103.558998</td>\n",
              "      <td>103.558998</td>\n",
              "      <td>0</td>\n",
              "    </tr>\n",
              "    <tr>\n",
              "      <th>2020-12-31</th>\n",
              "      <td>103.134003</td>\n",
              "      <td>103.278999</td>\n",
              "      <td>103.002998</td>\n",
              "      <td>103.121002</td>\n",
              "      <td>103.121002</td>\n",
              "      <td>0</td>\n",
              "    </tr>\n",
              "    <tr>\n",
              "      <th>2021-01-01</th>\n",
              "      <td>103.225998</td>\n",
              "      <td>103.250000</td>\n",
              "      <td>103.225998</td>\n",
              "      <td>103.225998</td>\n",
              "      <td>103.225998</td>\n",
              "      <td>0</td>\n",
              "    </tr>\n",
              "  </tbody>\n",
              "</table>\n",
              "<p>1283 rows × 6 columns</p>\n",
              "</div>"
            ],
            "text/plain": [
              "                  Open        High         Low       Close   Adj Close  Volume\n",
              "Date                                                                          \n",
              "2016-01-01  120.288002  120.288002  120.288002  120.288002  120.288002       0\n",
              "2016-01-04  120.317001  120.447998  118.720001  120.310997  120.310997       0\n",
              "2016-01-05  119.473999  119.680000  118.801003  119.467003  119.467003       0\n",
              "2016-01-06  119.099998  119.150002  118.260002  119.101997  119.101997       0\n",
              "2016-01-07  118.609001  118.752998  117.363998  118.610001  118.610001       0\n",
              "...                ...         ...         ...         ...         ...     ...\n",
              "2020-12-28  103.526001  103.893997  103.400002  103.532997  103.532997       0\n",
              "2020-12-29  103.691002  103.791000  103.466003  103.689003  103.689003       0\n",
              "2020-12-30  103.552002  103.570000  102.962997  103.558998  103.558998       0\n",
              "2020-12-31  103.134003  103.278999  103.002998  103.121002  103.121002       0\n",
              "2021-01-01  103.225998  103.250000  103.225998  103.225998  103.225998       0\n",
              "\n",
              "[1283 rows x 6 columns]"
            ]
          },
          "metadata": {},
          "execution_count": 4
        }
      ]
    },
    {
      "cell_type": "markdown",
      "metadata": {
        "id": "hJAMd1vGtaJM"
      },
      "source": [
        "## 3. Análisis Técnico "
      ]
    },
    {
      "cell_type": "code",
      "metadata": {
        "colab": {
          "base_uri": "https://localhost:8080/",
          "height": 452
        },
        "id": "Fgd3zwkadz3W",
        "outputId": "7e9fe125-84ba-4533-e5c2-877d48190bcb"
      },
      "source": [
        "# Incluir todo el anáñisis técnico a la base de datos\n",
        "df['EMA_5'] = ta.trend.ema_indicator(close=df[\"Close\"], window=5, fillna=True)/df[\"Close\"]\n",
        "#df['EMA_10'] = ta.trend.ema_indicator(close=df[\"Close\"], window=10, fillna=True)/df[\"Close\"]\n",
        "#df['EMA_15'] = ta.trend.ema_indicator(close=df[\"Close\"], window=15, fillna=True)/df[\"Close\"]\n",
        "df['EMA_20'] = ta.trend.ema_indicator(close=df[\"Close\"], window=20, fillna=True)/df[\"Close\"]\n",
        "df['EMA_50'] = ta.trend.ema_indicator(close=df[\"Close\"], window=50, fillna=True)/df[\"Close\"]\n",
        "df['EMA_100'] = ta.trend.ema_indicator(close=df[\"Close\"], window=100, fillna=True)/df[\"Close\"]\n",
        "#df['EMA_200'] = ta.trend.ema_indicator(close=df[\"Close\"], window=200, fillna=True)/df[\"Close\"] \n",
        "\n",
        "#df['EMA_5_10'] = df['EMA_5']/df['EMA_10']\n",
        "#df['EMA_5_20'] = df['EMA_5']/df['EMA_20']\n",
        "#df['EMA_5_50'] = df['EMA_5']/df['EMA_50']\n",
        "#df['EMA_5_100'] = df['EMA_5']/df['EMA_100']\n",
        "#df['EMA_5_200'] = df['EMA_5']/df['EMA_200']\n",
        "\n",
        "#df['EMA_10_20'] = df['EMA_10']/df['EMA_20']\n",
        "#df['EMA_10_50'] = df['EMA_10']/df['EMA_50']\n",
        "#df['EMA_10_100'] = df['EMA_10']/df['EMA_100']\n",
        "#df['EMA_10_200'] = df['EMA_10']/df['EMA_200']\n",
        "\n",
        "#df['EMA_20_50'] = df['EMA_20']/df['EMA_50']\n",
        "#df['EMA_20_100'] = df['EMA_20']/df['EMA_100']\n",
        "#df['EMA_20_200'] = df['EMA_20']/df['EMA_200']\n",
        "\n",
        "#df['EMA_50_100'] = df['EMA_50']/df['EMA_100']\n",
        "#df['EMA_50_200'] = df['EMA_50']/df['EMA_200']\n",
        "\n",
        "#df['EMA_100_200'] = df['EMA_100']/df['EMA_200']\n",
        "\n",
        "\n",
        "#df['MACD'] = ta.trend.macd(close=df[\"Close\"], fillna=True)/df[\"Close\"] \n",
        "\n",
        "df['RSI'] = ta.momentum.rsi(close=df[\"Close\"], fillna=True)\n",
        "\n",
        "#df['BOL_H'] = ta.volatility.bollinger_hband(close=df[\"Close\"], fillna=True)/df[\"Close\"]\n",
        "#df['BOL_L'] = df[\"Close\"]/ta.volatility.bollinger_lband(close=df[\"Close\"], fillna=True)\n",
        "\n",
        "#df['BOL_H_L'] = ta.volatility.bollinger_hband(close=df[\"Close\"], fillna=True)/ta.volatility.bollinger_lband(close=df[\"Close\"], fillna=True)\n",
        "\n",
        "#df['KDJ'] = ta.momentum.stoch(high=df[\"High\"], low=df[\"Low\"], close=df[\"Close\"], fillna=True)\n",
        "\n",
        "df['ATR'] = ta.volatility.average_true_range(high=df[\"High\"], low=df[\"Low\"], close=df[\"Close\"], fillna=True)\n",
        "\n",
        "df['WR'] = ta.momentum.williams_r(high=df[\"High\"], low=df[\"Low\"], close=df[\"Close\"], fillna=True)\n",
        "\n",
        "#df.drop('Open', axis=1, inplace=True)\n",
        "#df.drop('High', axis=1, inplace=True)\n",
        "#df.drop('Low', axis=1, inplace=True)\n",
        "#df.drop('Volume', axis=1, inplace=True)\n",
        "#df.drop('Adj Close', axis=1, inplace=True)\n",
        "\n",
        "df"
      ],
      "execution_count": null,
      "outputs": [
        {
          "output_type": "execute_result",
          "data": {
            "text/html": [
              "<div>\n",
              "<style scoped>\n",
              "    .dataframe tbody tr th:only-of-type {\n",
              "        vertical-align: middle;\n",
              "    }\n",
              "\n",
              "    .dataframe tbody tr th {\n",
              "        vertical-align: top;\n",
              "    }\n",
              "\n",
              "    .dataframe thead th {\n",
              "        text-align: right;\n",
              "    }\n",
              "</style>\n",
              "<table border=\"1\" class=\"dataframe\">\n",
              "  <thead>\n",
              "    <tr style=\"text-align: right;\">\n",
              "      <th></th>\n",
              "      <th>Open</th>\n",
              "      <th>High</th>\n",
              "      <th>Low</th>\n",
              "      <th>Close</th>\n",
              "      <th>Adj Close</th>\n",
              "      <th>Volume</th>\n",
              "      <th>EMA_5</th>\n",
              "      <th>EMA_20</th>\n",
              "      <th>EMA_50</th>\n",
              "      <th>EMA_100</th>\n",
              "      <th>RSI</th>\n",
              "      <th>ATR</th>\n",
              "      <th>WR</th>\n",
              "    </tr>\n",
              "    <tr>\n",
              "      <th>Date</th>\n",
              "      <th></th>\n",
              "      <th></th>\n",
              "      <th></th>\n",
              "      <th></th>\n",
              "      <th></th>\n",
              "      <th></th>\n",
              "      <th></th>\n",
              "      <th></th>\n",
              "      <th></th>\n",
              "      <th></th>\n",
              "      <th></th>\n",
              "      <th></th>\n",
              "      <th></th>\n",
              "    </tr>\n",
              "  </thead>\n",
              "  <tbody>\n",
              "    <tr>\n",
              "      <th>2016-01-01</th>\n",
              "      <td>120.288002</td>\n",
              "      <td>120.288002</td>\n",
              "      <td>120.288002</td>\n",
              "      <td>120.288002</td>\n",
              "      <td>120.288002</td>\n",
              "      <td>0</td>\n",
              "      <td>1.000000</td>\n",
              "      <td>1.000000</td>\n",
              "      <td>1.000000</td>\n",
              "      <td>1.000000</td>\n",
              "      <td>100.000000</td>\n",
              "      <td>0.000000</td>\n",
              "      <td>-50.000000</td>\n",
              "    </tr>\n",
              "    <tr>\n",
              "      <th>2016-01-04</th>\n",
              "      <td>120.317001</td>\n",
              "      <td>120.447998</td>\n",
              "      <td>118.720001</td>\n",
              "      <td>120.310997</td>\n",
              "      <td>120.310997</td>\n",
              "      <td>0</td>\n",
              "      <td>0.999873</td>\n",
              "      <td>0.999827</td>\n",
              "      <td>0.999816</td>\n",
              "      <td>0.999813</td>\n",
              "      <td>100.000000</td>\n",
              "      <td>0.000000</td>\n",
              "      <td>-7.928315</td>\n",
              "    </tr>\n",
              "    <tr>\n",
              "      <th>2016-01-05</th>\n",
              "      <td>119.473999</td>\n",
              "      <td>119.680000</td>\n",
              "      <td>118.801003</td>\n",
              "      <td>119.467003</td>\n",
              "      <td>119.467003</td>\n",
              "      <td>0</td>\n",
              "      <td>1.004624</td>\n",
              "      <td>1.006234</td>\n",
              "      <td>1.006610</td>\n",
              "      <td>1.006740</td>\n",
              "      <td>2.467508</td>\n",
              "      <td>0.000000</td>\n",
              "      <td>-56.770659</td>\n",
              "    </tr>\n",
              "    <tr>\n",
              "      <th>2016-01-06</th>\n",
              "      <td>119.099998</td>\n",
              "      <td>119.150002</td>\n",
              "      <td>118.260002</td>\n",
              "      <td>119.101997</td>\n",
              "      <td>119.101997</td>\n",
              "      <td>0</td>\n",
              "      <td>1.005135</td>\n",
              "      <td>1.008431</td>\n",
              "      <td>1.009315</td>\n",
              "      <td>1.009631</td>\n",
              "      <td>1.696757</td>\n",
              "      <td>0.000000</td>\n",
              "      <td>-61.517513</td>\n",
              "    </tr>\n",
              "    <tr>\n",
              "      <th>2016-01-07</th>\n",
              "      <td>118.609001</td>\n",
              "      <td>118.752998</td>\n",
              "      <td>117.363998</td>\n",
              "      <td>118.610001</td>\n",
              "      <td>118.610001</td>\n",
              "      <td>0</td>\n",
              "      <td>1.006203</td>\n",
              "      <td>1.011412</td>\n",
              "      <td>1.012972</td>\n",
              "      <td>1.013545</td>\n",
              "      <td>1.167422</td>\n",
              "      <td>0.000000</td>\n",
              "      <td>-59.597849</td>\n",
              "    </tr>\n",
              "    <tr>\n",
              "      <th>...</th>\n",
              "      <td>...</td>\n",
              "      <td>...</td>\n",
              "      <td>...</td>\n",
              "      <td>...</td>\n",
              "      <td>...</td>\n",
              "      <td>...</td>\n",
              "      <td>...</td>\n",
              "      <td>...</td>\n",
              "      <td>...</td>\n",
              "      <td>...</td>\n",
              "      <td>...</td>\n",
              "      <td>...</td>\n",
              "      <td>...</td>\n",
              "    </tr>\n",
              "    <tr>\n",
              "      <th>2020-12-28</th>\n",
              "      <td>103.526001</td>\n",
              "      <td>103.893997</td>\n",
              "      <td>103.400002</td>\n",
              "      <td>103.532997</td>\n",
              "      <td>103.532997</td>\n",
              "      <td>0</td>\n",
              "      <td>1.000153</td>\n",
              "      <td>1.002482</td>\n",
              "      <td>1.007047</td>\n",
              "      <td>1.013375</td>\n",
              "      <td>42.903383</td>\n",
              "      <td>0.538116</td>\n",
              "      <td>-61.964296</td>\n",
              "    </tr>\n",
              "    <tr>\n",
              "      <th>2020-12-29</th>\n",
              "      <td>103.691002</td>\n",
              "      <td>103.791000</td>\n",
              "      <td>103.466003</td>\n",
              "      <td>103.689003</td>\n",
              "      <td>103.689003</td>\n",
              "      <td>0</td>\n",
              "      <td>0.999099</td>\n",
              "      <td>1.000881</td>\n",
              "      <td>1.005315</td>\n",
              "      <td>1.011616</td>\n",
              "      <td>46.077399</td>\n",
              "      <td>0.522893</td>\n",
              "      <td>-52.678235</td>\n",
              "    </tr>\n",
              "    <tr>\n",
              "      <th>2020-12-30</th>\n",
              "      <td>103.552002</td>\n",
              "      <td>103.570000</td>\n",
              "      <td>102.962997</td>\n",
              "      <td>103.558998</td>\n",
              "      <td>103.558998</td>\n",
              "      <td>0</td>\n",
              "      <td>1.000235</td>\n",
              "      <td>1.001934</td>\n",
              "      <td>1.006319</td>\n",
              "      <td>1.012630</td>\n",
              "      <td>43.887889</td>\n",
              "      <td>0.537401</td>\n",
              "      <td>-47.802211</td>\n",
              "    </tr>\n",
              "    <tr>\n",
              "      <th>2020-12-31</th>\n",
              "      <td>103.134003</td>\n",
              "      <td>103.278999</td>\n",
              "      <td>103.002998</td>\n",
              "      <td>103.121002</td>\n",
              "      <td>103.121002</td>\n",
              "      <td>0</td>\n",
              "      <td>1.002989</td>\n",
              "      <td>1.005600</td>\n",
              "      <td>1.010178</td>\n",
              "      <td>1.016596</td>\n",
              "      <td>37.434016</td>\n",
              "      <td>0.538730</td>\n",
              "      <td>-81.883167</td>\n",
              "    </tr>\n",
              "    <tr>\n",
              "      <th>2021-01-01</th>\n",
              "      <td>103.225998</td>\n",
              "      <td>103.250000</td>\n",
              "      <td>103.225998</td>\n",
              "      <td>103.225998</td>\n",
              "      <td>103.225998</td>\n",
              "      <td>0</td>\n",
              "      <td>1.001313</td>\n",
              "      <td>1.004141</td>\n",
              "      <td>1.008791</td>\n",
              "      <td>1.015254</td>\n",
              "      <td>39.722344</td>\n",
              "      <td>0.509463</td>\n",
              "      <td>-73.503659</td>\n",
              "    </tr>\n",
              "  </tbody>\n",
              "</table>\n",
              "<p>1283 rows × 13 columns</p>\n",
              "</div>"
            ],
            "text/plain": [
              "                  Open        High         Low  ...         RSI       ATR         WR\n",
              "Date                                            ...                                 \n",
              "2016-01-01  120.288002  120.288002  120.288002  ...  100.000000  0.000000 -50.000000\n",
              "2016-01-04  120.317001  120.447998  118.720001  ...  100.000000  0.000000  -7.928315\n",
              "2016-01-05  119.473999  119.680000  118.801003  ...    2.467508  0.000000 -56.770659\n",
              "2016-01-06  119.099998  119.150002  118.260002  ...    1.696757  0.000000 -61.517513\n",
              "2016-01-07  118.609001  118.752998  117.363998  ...    1.167422  0.000000 -59.597849\n",
              "...                ...         ...         ...  ...         ...       ...        ...\n",
              "2020-12-28  103.526001  103.893997  103.400002  ...   42.903383  0.538116 -61.964296\n",
              "2020-12-29  103.691002  103.791000  103.466003  ...   46.077399  0.522893 -52.678235\n",
              "2020-12-30  103.552002  103.570000  102.962997  ...   43.887889  0.537401 -47.802211\n",
              "2020-12-31  103.134003  103.278999  103.002998  ...   37.434016  0.538730 -81.883167\n",
              "2021-01-01  103.225998  103.250000  103.225998  ...   39.722344  0.509463 -73.503659\n",
              "\n",
              "[1283 rows x 13 columns]"
            ]
          },
          "metadata": {},
          "execution_count": 5
        }
      ]
    },
    {
      "cell_type": "code",
      "metadata": {
        "colab": {
          "base_uri": "https://localhost:8080/",
          "height": 623
        },
        "id": "Aq5LU3L0ynyO",
        "outputId": "d174dc51-9e97-4582-a3bb-8582b3841f2d"
      },
      "source": [
        "# Crea el Target (1 si el precio sube el día siguiente, -1 si baja)\n",
        "target = np.where(np.array(df['Close'][1:]) > np.array(df['Close'][:-1]), 1, -1)\n",
        "\n",
        "# Elimina el ultimo día para el que no tenemos info del precio el día siguiente.\n",
        "df.drop(df.tail(1).index, inplace=True)\n",
        "\n",
        "# Creamos la columna target\n",
        "df['Target'] = target\n",
        "\n",
        "# Elimina los primeros 29 días dónde los indicadores técnicos no tienen suficiente info\n",
        "df.drop(df.head(29).index, inplace=True)\n",
        "\n",
        "df"
      ],
      "execution_count": null,
      "outputs": [
        {
          "output_type": "execute_result",
          "data": {
            "text/html": [
              "<div>\n",
              "<style scoped>\n",
              "    .dataframe tbody tr th:only-of-type {\n",
              "        vertical-align: middle;\n",
              "    }\n",
              "\n",
              "    .dataframe tbody tr th {\n",
              "        vertical-align: top;\n",
              "    }\n",
              "\n",
              "    .dataframe thead th {\n",
              "        text-align: right;\n",
              "    }\n",
              "</style>\n",
              "<table border=\"1\" class=\"dataframe\">\n",
              "  <thead>\n",
              "    <tr style=\"text-align: right;\">\n",
              "      <th></th>\n",
              "      <th>Open</th>\n",
              "      <th>High</th>\n",
              "      <th>Low</th>\n",
              "      <th>Close</th>\n",
              "      <th>Adj Close</th>\n",
              "      <th>Volume</th>\n",
              "      <th>EMA_5</th>\n",
              "      <th>EMA_20</th>\n",
              "      <th>EMA_50</th>\n",
              "      <th>EMA_100</th>\n",
              "      <th>RSI</th>\n",
              "      <th>ATR</th>\n",
              "      <th>WR</th>\n",
              "      <th>Target</th>\n",
              "    </tr>\n",
              "    <tr>\n",
              "      <th>Date</th>\n",
              "      <th></th>\n",
              "      <th></th>\n",
              "      <th></th>\n",
              "      <th></th>\n",
              "      <th></th>\n",
              "      <th></th>\n",
              "      <th></th>\n",
              "      <th></th>\n",
              "      <th></th>\n",
              "      <th></th>\n",
              "      <th></th>\n",
              "      <th></th>\n",
              "      <th></th>\n",
              "      <th></th>\n",
              "    </tr>\n",
              "  </thead>\n",
              "  <tbody>\n",
              "    <tr>\n",
              "      <th>2016-02-11</th>\n",
              "      <td>113.238998</td>\n",
              "      <td>113.462997</td>\n",
              "      <td>111.081001</td>\n",
              "      <td>113.251999</td>\n",
              "      <td>113.251999</td>\n",
              "      <td>0</td>\n",
              "      <td>1.019320</td>\n",
              "      <td>1.037748</td>\n",
              "      <td>1.046771</td>\n",
              "      <td>1.052706</td>\n",
              "      <td>26.420380</td>\n",
              "      <td>1.825300</td>\n",
              "      <td>-79.480177</td>\n",
              "      <td>-1</td>\n",
              "    </tr>\n",
              "    <tr>\n",
              "      <th>2016-02-12</th>\n",
              "      <td>112.483002</td>\n",
              "      <td>113.123001</td>\n",
              "      <td>111.755997</td>\n",
              "      <td>112.497002</td>\n",
              "      <td>112.497002</td>\n",
              "      <td>0</td>\n",
              "      <td>1.017441</td>\n",
              "      <td>1.040454</td>\n",
              "      <td>1.051687</td>\n",
              "      <td>1.058587</td>\n",
              "      <td>24.527034</td>\n",
              "      <td>1.801778</td>\n",
              "      <td>-86.616256</td>\n",
              "      <td>1</td>\n",
              "    </tr>\n",
              "    <tr>\n",
              "      <th>2016-02-15</th>\n",
              "      <td>113.675003</td>\n",
              "      <td>114.546997</td>\n",
              "      <td>113.278000</td>\n",
              "      <td>113.669998</td>\n",
              "      <td>113.669998</td>\n",
              "      <td>0</td>\n",
              "      <td>1.004628</td>\n",
              "      <td>1.026887</td>\n",
              "      <td>1.039232</td>\n",
              "      <td>1.046719</td>\n",
              "      <td>32.607535</td>\n",
              "      <td>1.819508</td>\n",
              "      <td>-75.529334</td>\n",
              "      <td>1</td>\n",
              "    </tr>\n",
              "    <tr>\n",
              "      <th>2016-02-16</th>\n",
              "      <td>114.318001</td>\n",
              "      <td>114.867996</td>\n",
              "      <td>113.660004</td>\n",
              "      <td>114.321999</td>\n",
              "      <td>114.321999</td>\n",
              "      <td>0</td>\n",
              "      <td>0.999265</td>\n",
              "      <td>1.019028</td>\n",
              "      <td>1.031999</td>\n",
              "      <td>1.039943</td>\n",
              "      <td>36.666508</td>\n",
              "      <td>1.775829</td>\n",
              "      <td>-69.366760</td>\n",
              "      <td>-1</td>\n",
              "    </tr>\n",
              "    <tr>\n",
              "      <th>2016-02-17</th>\n",
              "      <td>114.134003</td>\n",
              "      <td>114.495003</td>\n",
              "      <td>113.389000</td>\n",
              "      <td>114.080002</td>\n",
              "      <td>114.080002</td>\n",
              "      <td>0</td>\n",
              "      <td>1.000923</td>\n",
              "      <td>1.019172</td>\n",
              "      <td>1.032848</td>\n",
              "      <td>1.041314</td>\n",
              "      <td>35.804544</td>\n",
              "      <td>1.727984</td>\n",
              "      <td>-71.654064</td>\n",
              "      <td>1</td>\n",
              "    </tr>\n",
              "    <tr>\n",
              "      <th>...</th>\n",
              "      <td>...</td>\n",
              "      <td>...</td>\n",
              "      <td>...</td>\n",
              "      <td>...</td>\n",
              "      <td>...</td>\n",
              "      <td>...</td>\n",
              "      <td>...</td>\n",
              "      <td>...</td>\n",
              "      <td>...</td>\n",
              "      <td>...</td>\n",
              "      <td>...</td>\n",
              "      <td>...</td>\n",
              "      <td>...</td>\n",
              "      <td>...</td>\n",
              "    </tr>\n",
              "    <tr>\n",
              "      <th>2020-12-25</th>\n",
              "      <td>103.621002</td>\n",
              "      <td>103.654999</td>\n",
              "      <td>103.213997</td>\n",
              "      <td>103.653000</td>\n",
              "      <td>103.653000</td>\n",
              "      <td>0</td>\n",
              "      <td>0.999072</td>\n",
              "      <td>1.001582</td>\n",
              "      <td>1.006168</td>\n",
              "      <td>1.012472</td>\n",
              "      <td>44.786381</td>\n",
              "      <td>0.541510</td>\n",
              "      <td>-54.821277</td>\n",
              "      <td>-1</td>\n",
              "    </tr>\n",
              "    <tr>\n",
              "      <th>2020-12-28</th>\n",
              "      <td>103.526001</td>\n",
              "      <td>103.893997</td>\n",
              "      <td>103.400002</td>\n",
              "      <td>103.532997</td>\n",
              "      <td>103.532997</td>\n",
              "      <td>0</td>\n",
              "      <td>1.000153</td>\n",
              "      <td>1.002482</td>\n",
              "      <td>1.007047</td>\n",
              "      <td>1.013375</td>\n",
              "      <td>42.903383</td>\n",
              "      <td>0.538116</td>\n",
              "      <td>-61.964296</td>\n",
              "      <td>1</td>\n",
              "    </tr>\n",
              "    <tr>\n",
              "      <th>2020-12-29</th>\n",
              "      <td>103.691002</td>\n",
              "      <td>103.791000</td>\n",
              "      <td>103.466003</td>\n",
              "      <td>103.689003</td>\n",
              "      <td>103.689003</td>\n",
              "      <td>0</td>\n",
              "      <td>0.999099</td>\n",
              "      <td>1.000881</td>\n",
              "      <td>1.005315</td>\n",
              "      <td>1.011616</td>\n",
              "      <td>46.077399</td>\n",
              "      <td>0.522893</td>\n",
              "      <td>-52.678235</td>\n",
              "      <td>-1</td>\n",
              "    </tr>\n",
              "    <tr>\n",
              "      <th>2020-12-30</th>\n",
              "      <td>103.552002</td>\n",
              "      <td>103.570000</td>\n",
              "      <td>102.962997</td>\n",
              "      <td>103.558998</td>\n",
              "      <td>103.558998</td>\n",
              "      <td>0</td>\n",
              "      <td>1.000235</td>\n",
              "      <td>1.001934</td>\n",
              "      <td>1.006319</td>\n",
              "      <td>1.012630</td>\n",
              "      <td>43.887889</td>\n",
              "      <td>0.537401</td>\n",
              "      <td>-47.802211</td>\n",
              "      <td>-1</td>\n",
              "    </tr>\n",
              "    <tr>\n",
              "      <th>2020-12-31</th>\n",
              "      <td>103.134003</td>\n",
              "      <td>103.278999</td>\n",
              "      <td>103.002998</td>\n",
              "      <td>103.121002</td>\n",
              "      <td>103.121002</td>\n",
              "      <td>0</td>\n",
              "      <td>1.002989</td>\n",
              "      <td>1.005600</td>\n",
              "      <td>1.010178</td>\n",
              "      <td>1.016596</td>\n",
              "      <td>37.434016</td>\n",
              "      <td>0.538730</td>\n",
              "      <td>-81.883167</td>\n",
              "      <td>1</td>\n",
              "    </tr>\n",
              "  </tbody>\n",
              "</table>\n",
              "<p>1253 rows × 14 columns</p>\n",
              "</div>"
            ],
            "text/plain": [
              "                  Open        High         Low  ...       ATR         WR  Target\n",
              "Date                                            ...                             \n",
              "2016-02-11  113.238998  113.462997  111.081001  ...  1.825300 -79.480177      -1\n",
              "2016-02-12  112.483002  113.123001  111.755997  ...  1.801778 -86.616256       1\n",
              "2016-02-15  113.675003  114.546997  113.278000  ...  1.819508 -75.529334       1\n",
              "2016-02-16  114.318001  114.867996  113.660004  ...  1.775829 -69.366760      -1\n",
              "2016-02-17  114.134003  114.495003  113.389000  ...  1.727984 -71.654064       1\n",
              "...                ...         ...         ...  ...       ...        ...     ...\n",
              "2020-12-25  103.621002  103.654999  103.213997  ...  0.541510 -54.821277      -1\n",
              "2020-12-28  103.526001  103.893997  103.400002  ...  0.538116 -61.964296       1\n",
              "2020-12-29  103.691002  103.791000  103.466003  ...  0.522893 -52.678235      -1\n",
              "2020-12-30  103.552002  103.570000  102.962997  ...  0.537401 -47.802211      -1\n",
              "2020-12-31  103.134003  103.278999  103.002998  ...  0.538730 -81.883167       1\n",
              "\n",
              "[1253 rows x 14 columns]"
            ]
          },
          "metadata": {},
          "execution_count": 6
        }
      ]
    },
    {
      "cell_type": "code",
      "metadata": {
        "colab": {
          "base_uri": "https://localhost:8080/"
        },
        "id": "lBMlnlF2vhcs",
        "outputId": "d62e3b0f-0b2e-4ec8-f559-a70b6df7d822"
      },
      "source": [
        "df.Target[df.Target==1].count()"
      ],
      "execution_count": null,
      "outputs": [
        {
          "output_type": "execute_result",
          "data": {
            "text/plain": [
              "627"
            ]
          },
          "metadata": {},
          "execution_count": 7
        }
      ]
    },
    {
      "cell_type": "markdown",
      "metadata": {
        "id": "L0uCcDmyJTFM"
      },
      "source": [
        "## 4. Conjunto de entrenamiento y prueba"
      ]
    },
    {
      "cell_type": "code",
      "metadata": {
        "colab": {
          "base_uri": "https://localhost:8080/"
        },
        "id": "E1xXhH-mr7Iz",
        "outputId": "e382f52c-ff99-4671-e4b6-5e0c4a2f3458"
      },
      "source": [
        "# Divida el conjunto de datos en una característica o un conjunto de datos independiente (X) y un destino o conjunto de datos dependiente (Y)\n",
        "X = df.drop('Target',axis=1)\n",
        "Y = df.Target\n",
        "\n",
        "print(X.shape)\n",
        "print(Y.shape)"
      ],
      "execution_count": null,
      "outputs": [
        {
          "output_type": "stream",
          "name": "stdout",
          "text": [
            "(1253, 13)\n",
            "(1253,)\n"
          ]
        }
      ]
    },
    {
      "cell_type": "code",
      "metadata": {
        "id": "SHrAH-ZsI2s1",
        "colab": {
          "base_uri": "https://localhost:8080/"
        },
        "outputId": "4b55c142-be03-435e-9246-0f47f7f3bf69"
      },
      "source": [
        "# Vuelva a dividir los datos, pero esta vez en 90% de entrenamiento y 10% de prueba.\n",
        "X_train, X_test, Y_train, Y_test = train_test_split(X, Y, test_size = 0.3, shuffle=False)\n",
        "\n",
        "print(X_train.shape)\n",
        "print(X_test.shape)"
      ],
      "execution_count": null,
      "outputs": [
        {
          "output_type": "stream",
          "name": "stdout",
          "text": [
            "(877, 13)\n",
            "(376, 13)\n"
          ]
        }
      ]
    },
    {
      "cell_type": "code",
      "metadata": {
        "id": "cAXksFBUsbzO"
      },
      "source": [
        "#Standardization\n",
        "ss = StandardScaler()\n",
        "X_train = ss.fit_transform(X_train)\n",
        "X_test = ss.transform(X_test)"
      ],
      "execution_count": null,
      "outputs": []
    },
    {
      "cell_type": "code",
      "metadata": {
        "colab": {
          "base_uri": "https://localhost:8080/"
        },
        "id": "SRHyC0A3EHmw",
        "outputId": "b26d35e2-e063-48d6-fb5d-730512f6c3b2"
      },
      "source": [
        "X_train.mean(),X_test.mean()\n"
      ],
      "execution_count": null,
      "outputs": [
        {
          "output_type": "execute_result",
          "data": {
            "text/plain": [
              "(1.3711025512430668e-17, -0.3768063068718643)"
            ]
          },
          "metadata": {},
          "execution_count": 23
        }
      ]
    },
    {
      "cell_type": "markdown",
      "metadata": {
        "id": "o01VaYhRB4CU"
      },
      "source": [
        "## 5. Machine Learning - Support Vector Classifier (SVC)"
      ]
    },
    {
      "cell_type": "code",
      "metadata": {
        "id": "ITp-5OPyCWVF"
      },
      "source": [
        "# Crear el modelo clasificador de Support Vector Machine.\n",
        "\n",
        "# Lineal Kernel\n",
        "#svc = SVC(kernel='linear')\n",
        "\n",
        "# Polynomial Kernel\n",
        "#svc  = SVC(kernel='poly', degree=8)\n",
        "\n",
        "# Gaussian Kernel\n",
        "svc = SVC(kernel='rbf',random_state=1)\n",
        "\n",
        "# Sigmoid Kernel\n",
        "#svc = SVC(kernel='sigmoid')\n",
        "\n",
        "# Entrenar el modelo de SVM\n",
        "\n",
        "svc = svc.fit(X_train, Y_train)"
      ],
      "execution_count": null,
      "outputs": []
    },
    {
      "cell_type": "code",
      "metadata": {
        "colab": {
          "base_uri": "https://localhost:8080/"
        },
        "id": "a0NXNN1sCb6I",
        "outputId": "ead2e90c-35ff-4718-b3d9-33371dac8c64"
      },
      "source": [
        "# Compruebe cómo le fue al modelo en el conjunto de datos de prueba\n",
        "svm_predictions = svc.predict(X_test)\n",
        "\n",
        "print(\"Accuracy: {:.4f}\\n\".format( accuracy_score(Y_test, svm_predictions) ))\n",
        "\n",
        "print(\"Confusion Matrix:\")\n",
        "print( confusion_matrix(Y_test, svm_predictions) )"
      ],
      "execution_count": null,
      "outputs": [
        {
          "output_type": "stream",
          "name": "stdout",
          "text": [
            "Accuracy: 0.5505\n",
            "\n",
            "Confusion Matrix:\n",
            "[[ 27 164]\n",
            " [  5 180]]\n"
          ]
        }
      ]
    },
    {
      "cell_type": "code",
      "metadata": {
        "colab": {
          "base_uri": "https://localhost:8080/",
          "height": 279
        },
        "id": "9kClbWh0Dgso",
        "outputId": "ccfd1f96-6502-4f42-cfe5-dfbbb7ee9260"
      },
      "source": [
        "# Get the model metrics\n",
        "plot_roc_curve(svc, X_test, Y_test)\n",
        "plt.show()"
      ],
      "execution_count": null,
      "outputs": [
        {
          "output_type": "display_data",
          "data": {
            "image/png": "[encoded data removed]",
            "text/plain": [
              "<Figure size 432x288 with 1 Axes>"
            ]
          },
          "metadata": {
            "needs_background": "light"
          }
        }
      ]
    },
    {
      "cell_type": "markdown",
      "metadata": {
        "id": "UunnZSSZe72G"
      },
      "source": [
        "## 6. Machine Learning - Decision Tree Classifer"
      ]
    },
    {
      "cell_type": "code",
      "metadata": {
        "id": "rcSj0_7p0EcX"
      },
      "source": [
        "# Crear el modelo clasificador de Árbol de Decisión.\n",
        "dtc = DecisionTreeClassifier(random_state=1)\n",
        "\n",
        "# Entrenar el Árbol de Decisión\n",
        "dtc = dtc.fit(X_train, Y_train)"
      ],
      "execution_count": null,
      "outputs": []
    },
    {
      "cell_type": "code",
      "metadata": {
        "colab": {
          "base_uri": "https://localhost:8080/"
        },
        "id": "Kw-GX3rT0o2h",
        "outputId": "b0884682-2a1e-4572-a7ad-114bd5663fac"
      },
      "source": [
        "# Compruebe cómo le fue al modelo en el conjunto de datos de prueba\n",
        "dtc_predictions = dtc.predict(X_test)\n",
        "\n",
        "print(\"Accuracy: {:.4f}\\n\".format( accuracy_score(Y_test, dtc_predictions) ))\n",
        "\n",
        "print(\"Confusion Matrix:\")\n",
        "print( confusion_matrix(Y_test, dtc_predictions) )"
      ],
      "execution_count": null,
      "outputs": [
        {
          "output_type": "stream",
          "name": "stdout",
          "text": [
            "Accuracy: 0.5372\n",
            "\n",
            "Confusion Matrix:\n",
            "[[103  88]\n",
            " [ 86  99]]\n"
          ]
        }
      ]
    },
    {
      "cell_type": "code",
      "metadata": {
        "colab": {
          "base_uri": "https://localhost:8080/",
          "height": 279
        },
        "id": "MpsH35pW1K7N",
        "outputId": "71c3ab03-28b0-4dc9-ddc7-555079856e7f"
      },
      "source": [
        "plot_roc_curve(dtc, X_test, Y_test)\n",
        "plt.show()"
      ],
      "execution_count": null,
      "outputs": [
        {
          "output_type": "display_data",
          "data": {
            "image/png": "[encoded data removed]",
            "text/plain": [
              "<Figure size 432x288 with 1 Axes>"
            ]
          },
          "metadata": {
            "needs_background": "light"
          }
        }
      ]
    },
    {
      "cell_type": "markdown",
      "metadata": {
        "id": "romG8tcxuud7"
      },
      "source": [
        "## 7. Machine Learning - Random Forest Classifier"
      ]
    },
    {
      "cell_type": "code",
      "metadata": {
        "id": "0nHxvMmi2U96"
      },
      "source": [
        "# Crear el modelo clasificador de Random Forest.\n",
        "rfc = RandomForestClassifier(random_state=1)\n",
        "\n",
        "# Entrenar el modelo de Random Forest\n",
        "rfc = rfc.fit(X_train, Y_train)\n"
      ],
      "execution_count": null,
      "outputs": []
    },
    {
      "cell_type": "code",
      "metadata": {
        "colab": {
          "base_uri": "https://localhost:8080/"
        },
        "id": "G8XinU042eMj",
        "outputId": "1f0fb5c6-a4bd-408b-d5a1-adfdf71657f3"
      },
      "source": [
        "# Compruebe cómo le fue al modelo en el conjunto de datos de prueba\n",
        "rfc_predictions = rfc.predict(X_test)\n",
        "\n",
        "print(\"Accuracy: {:.4f}\\n\".format( accuracy_score(Y_test, rfc_predictions) ))\n",
        "\n",
        "print(\"Confusion Matrix:\")\n",
        "print( confusion_matrix(Y_test, rfc_predictions) )"
      ],
      "execution_count": null,
      "outputs": [
        {
          "output_type": "stream",
          "name": "stdout",
          "text": [
            "Accuracy: 0.5851\n",
            "\n",
            "Confusion Matrix:\n",
            "[[113  78]\n",
            " [ 78 107]]\n"
          ]
        }
      ]
    },
    {
      "cell_type": "code",
      "metadata": {
        "id": "6gEIamrY2lGm",
        "colab": {
          "base_uri": "https://localhost:8080/",
          "height": 54
        },
        "outputId": "670d5fbf-d2a1-4df6-a5ff-551d55156ed3"
      },
      "source": [
        "# Get the model metrics\n",
        "plot_roc_curve(rfc, X_test, Y_test)\n",
        "plt.show()"
      ],
      "execution_count": null,
      "outputs": [
        {
          "output_type": "display_data",
          "data": {
            "image/png": "[encoded data removed]",
            "text/plain": [
              "<Figure size 432x288 with 1 Axes>"
            ]
          },
          "metadata": {
            "needs_background": "light"
          }
        }
      ]
    },
    {
      "cell_type": "markdown",
      "metadata": {
        "id": "4hgJYDZzDyBt"
      },
      "source": [
        "## 8. Machine Learning - Redes neuronales / Multilayer Perceptron (MLP)"
      ]
    },
    {
      "cell_type": "code",
      "metadata": {
        "id": "proAGOujEG6i"
      },
      "source": [
        "# Crear el modelo clasificador de Redes Neuronales.\n",
        "mlp = MLPClassifier(solver='adam', hidden_layer_sizes=(32,16), max_iter=1000,random_state=1)\n",
        "\n",
        "# Entrenar el modelo de Redes Neuronales\n",
        "mlp = mlp.fit(X_train, Y_train)"
      ],
      "execution_count": null,
      "outputs": []
    },
    {
      "cell_type": "code",
      "metadata": {
        "colab": {
          "base_uri": "https://localhost:8080/"
        },
        "id": "z2mCFeN6EO1s",
        "outputId": "934558d4-d46c-4cd1-a1db-93d8acf1b3d0"
      },
      "source": [
        "# Compruebe cómo le fue al modelo en el conjunto de datos de prueba\n",
        "mlp_predictions = mlp.predict(X_test)\n",
        "\n",
        "print(\"Accuracy: {:.4f}\\n\".format( accuracy_score(Y_test, mlp_predictions) ))\n",
        "\n",
        "print(\"Confusion Matrix:\")\n",
        "print( confusion_matrix(Y_test, mlp_predictions) )"
      ],
      "execution_count": null,
      "outputs": [
        {
          "output_type": "stream",
          "name": "stdout",
          "text": [
            "Accuracy: 0.7234\n",
            "\n",
            "Confusion Matrix:\n",
            "[[ 96  95]\n",
            " [  9 176]]\n"
          ]
        }
      ]
    },
    {
      "cell_type": "code",
      "metadata": {
        "colab": {
          "base_uri": "https://localhost:8080/"
        },
        "id": "aAvh_JvSEcOT",
        "outputId": "5fc94362-f082-45bb-f9c3-bbd8f1f74b87"
      },
      "source": [
        "# Get the model metrics\n",
        "plot_roc_curve(mlp, X_test, Y_test)\n",
        "plt.show()"
      ],
      "execution_count": null,
      "outputs": [
        {
          "output_type": "display_data",
          "data": {
            "image/png": "[encoded data removed]",
            "text/plain": [
              "<Figure size 432x288 with 1 Axes>"
            ]
          },
          "metadata": {
            "needs_background": "light"
          }
        }
      ]
    },
    {
      "cell_type": "code",
      "metadata": {
        "colab": {
          "base_uri": "https://localhost:8080/"
        },
        "id": "U_OdXsbEvIaj",
        "outputId": "832845f8-b440-446a-de31-df5ea48d1d4c"
      },
      "source": [
        "rfc.feature_importances_"
      ],
      "execution_count": null,
      "outputs": [
        {
          "output_type": "execute_result",
          "data": {
            "text/plain": [
              "array([0.08335549, 0.09777437, 0.10306447, 0.08444629, 0.08173718,\n",
              "       0.        , 0.07387295, 0.07194112, 0.07210037, 0.07523331,\n",
              "       0.07221627, 0.07582106, 0.10843711])"
            ]
          },
          "metadata": {},
          "execution_count": 23
        }
      ]
    },
    {
      "cell_type": "code",
      "metadata": {
        "colab": {
          "base_uri": "https://localhost:8080/",
          "height": 350
        },
        "id": "o4mAmY5-yC5c",
        "outputId": "0bbb9928-c297-4926-e887-b0ce83893199"
      },
      "source": [
        "x1 = np.array([109.685997, 110.071999, 109.667999, 109.698997, 0, 1.000124, 1.001453, 1.001706, 0.998667, 46.921401, 0.547440, -55.882556]).reshape((1, 12))\n",
        "x1_test = ss.transform(x1)\n",
        "\n",
        "y1 = mlp.predict(x1_test)\n",
        "y1"
      ],
      "execution_count": null,
      "outputs": [
        {
          "output_type": "error",
          "ename": "ValueError",
          "evalue": "ignored",
          "traceback": [
            "\u001b[0;31m---------------------------------------------------------------------------\u001b[0m",
            "\u001b[0;31mValueError\u001b[0m                                Traceback (most recent call last)",
            "\u001b[0;32m<ipython-input-24-6a7407052ddb>\u001b[0m in \u001b[0;36m<module>\u001b[0;34m()\u001b[0m\n\u001b[1;32m      1\u001b[0m \u001b[0mx1\u001b[0m \u001b[0;34m=\u001b[0m \u001b[0mnp\u001b[0m\u001b[0;34m.\u001b[0m\u001b[0marray\u001b[0m\u001b[0;34m(\u001b[0m\u001b[0;34m[\u001b[0m\u001b[0;36m109.685997\u001b[0m\u001b[0;34m,\u001b[0m \u001b[0;36m110.071999\u001b[0m\u001b[0;34m,\u001b[0m \u001b[0;36m109.667999\u001b[0m\u001b[0;34m,\u001b[0m \u001b[0;36m109.698997\u001b[0m\u001b[0;34m,\u001b[0m \u001b[0;36m0\u001b[0m\u001b[0;34m,\u001b[0m \u001b[0;36m1.000124\u001b[0m\u001b[0;34m,\u001b[0m \u001b[0;36m1.001453\u001b[0m\u001b[0;34m,\u001b[0m \u001b[0;36m1.001706\u001b[0m\u001b[0;34m,\u001b[0m \u001b[0;36m0.998667\u001b[0m\u001b[0;34m,\u001b[0m \u001b[0;36m46.921401\u001b[0m\u001b[0;34m,\u001b[0m \u001b[0;36m0.547440\u001b[0m\u001b[0;34m,\u001b[0m \u001b[0;34m-\u001b[0m\u001b[0;36m55.882556\u001b[0m\u001b[0;34m]\u001b[0m\u001b[0;34m)\u001b[0m\u001b[0;34m.\u001b[0m\u001b[0mreshape\u001b[0m\u001b[0;34m(\u001b[0m\u001b[0;34m(\u001b[0m\u001b[0;36m1\u001b[0m\u001b[0;34m,\u001b[0m \u001b[0;36m12\u001b[0m\u001b[0;34m)\u001b[0m\u001b[0;34m)\u001b[0m\u001b[0;34m\u001b[0m\u001b[0;34m\u001b[0m\u001b[0m\n\u001b[0;32m----> 2\u001b[0;31m \u001b[0mx1_test\u001b[0m \u001b[0;34m=\u001b[0m \u001b[0mss\u001b[0m\u001b[0;34m.\u001b[0m\u001b[0mtransform\u001b[0m\u001b[0;34m(\u001b[0m\u001b[0mx1\u001b[0m\u001b[0;34m)\u001b[0m\u001b[0;34m\u001b[0m\u001b[0;34m\u001b[0m\u001b[0m\n\u001b[0m\u001b[1;32m      3\u001b[0m \u001b[0;34m\u001b[0m\u001b[0m\n\u001b[1;32m      4\u001b[0m \u001b[0my1\u001b[0m \u001b[0;34m=\u001b[0m \u001b[0mmlp\u001b[0m\u001b[0;34m.\u001b[0m\u001b[0mpredict\u001b[0m\u001b[0;34m(\u001b[0m\u001b[0mx1_test\u001b[0m\u001b[0;34m)\u001b[0m\u001b[0;34m\u001b[0m\u001b[0;34m\u001b[0m\u001b[0m\n\u001b[1;32m      5\u001b[0m \u001b[0my1\u001b[0m\u001b[0;34m\u001b[0m\u001b[0;34m\u001b[0m\u001b[0m\n",
            "\u001b[0;32m/usr/local/lib/python3.7/dist-packages/sklearn/preprocessing/_data.py\u001b[0m in \u001b[0;36mtransform\u001b[0;34m(self, X, copy)\u001b[0m\n\u001b[1;32m    804\u001b[0m         \u001b[0;32melse\u001b[0m\u001b[0;34m:\u001b[0m\u001b[0;34m\u001b[0m\u001b[0;34m\u001b[0m\u001b[0m\n\u001b[1;32m    805\u001b[0m             \u001b[0;32mif\u001b[0m \u001b[0mself\u001b[0m\u001b[0;34m.\u001b[0m\u001b[0mwith_mean\u001b[0m\u001b[0;34m:\u001b[0m\u001b[0;34m\u001b[0m\u001b[0;34m\u001b[0m\u001b[0m\n\u001b[0;32m--> 806\u001b[0;31m                 \u001b[0mX\u001b[0m \u001b[0;34m-=\u001b[0m \u001b[0mself\u001b[0m\u001b[0;34m.\u001b[0m\u001b[0mmean_\u001b[0m\u001b[0;34m\u001b[0m\u001b[0;34m\u001b[0m\u001b[0m\n\u001b[0m\u001b[1;32m    807\u001b[0m             \u001b[0;32mif\u001b[0m \u001b[0mself\u001b[0m\u001b[0;34m.\u001b[0m\u001b[0mwith_std\u001b[0m\u001b[0;34m:\u001b[0m\u001b[0;34m\u001b[0m\u001b[0;34m\u001b[0m\u001b[0m\n\u001b[1;32m    808\u001b[0m                 \u001b[0mX\u001b[0m \u001b[0;34m/=\u001b[0m \u001b[0mself\u001b[0m\u001b[0;34m.\u001b[0m\u001b[0mscale_\u001b[0m\u001b[0;34m\u001b[0m\u001b[0;34m\u001b[0m\u001b[0m\n",
            "\u001b[0;31mValueError\u001b[0m: operands could not be broadcast together with shapes (1,12) (13,) (1,12) "
          ]
        }
      ]
    },
    {
      "cell_type": "code",
      "metadata": {
        "id": "GHi0p4Gb2RLl"
      },
      "source": [
        "# Get the model metrics\n",
        "plot_roc_curve(mlp, X_train, Y_train)\n",
        "plt.show()"
      ],
      "execution_count": null,
      "outputs": []
    },
    {
      "cell_type": "code",
      "metadata": {
        "id": "sQ7kgX6s4s7o"
      },
      "source": [
        ""
      ],
      "execution_count": null,
      "outputs": []
    }
  ]
}