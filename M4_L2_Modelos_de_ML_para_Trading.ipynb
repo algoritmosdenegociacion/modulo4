{
  "nbformat": 4,
  "nbformat_minor": 0,
  "metadata": {
    "colab": {
      "name": "M4_L2 - Modelos de ML para Trading.ipynb",
      "provenance": [],
      "collapsed_sections": [],
      "include_colab_link": true
    },
    "kernelspec": {
      "name": "python3",
      "display_name": "Python 3"
    },
    "language_info": {
      "name": "python"
    }
  },
  "cells": [
    {
      "cell_type": "markdown",
      "metadata": {
        "id": "view-in-github",
        "colab_type": "text"
      },
      "source": [
        "<a href=\"https://colab.research.google.com/github/algoritmosdenegociacion/modulo4/blob/main/M4_L2_Modelos_de_ML_para_Trading.ipynb\" target=\"_parent\"><img src=\"https://colab.research.google.com/assets/colab-badge.svg\" alt=\"Open In Colab\"/></a>"
      ]
    },
    {
      "cell_type": "markdown",
      "metadata": {
        "id": "HDMUuXGmB_q1"
      },
      "source": [
        "# Algoritmos de Negociación basados en Machine Learning - Módulo 4\n",
        "- Sergio Andrés Cabrales, Ph.D., Universidad de los Andes \n",
        "- Juan Pablo Cortés, T.A., Universidad de los Andes\n",
        "\n",
        "https://github.com/algoritmosdenegociacion/"
      ]
    },
    {
      "cell_type": "markdown",
      "metadata": {
        "id": "CSr9zTNECaPv"
      },
      "source": [
        "## 1. Carga de librerías, funciones y APIs necesarias.\n"
      ]
    },
    {
      "cell_type": "markdown",
      "metadata": {
        "id": "mF4dwMlYCb8D"
      },
      "source": [
        "#### 1.1. Instalan las librerías que no incluye Google Colab"
      ]
    },
    {
      "cell_type": "code",
      "metadata": {
        "id": "aKnoONgqf_EC",
        "colab": {
          "base_uri": "https://localhost:8080/"
        },
        "outputId": "d29065e7-27ad-45a0-d489-6ad6cab1376d"
      },
      "source": [
        "pip install yfinance"
      ],
      "execution_count": null,
      "outputs": [
        {
          "output_type": "stream",
          "name": "stdout",
          "text": [
            "Collecting yfinance\n",
            "  Downloading yfinance-0.1.63.tar.gz (26 kB)\n",
            "Requirement already satisfied: pandas>=0.24 in /usr/local/lib/python3.7/dist-packages (from yfinance) (1.1.5)\n",
            "Requirement already satisfied: numpy>=1.15 in /usr/local/lib/python3.7/dist-packages (from yfinance) (1.19.5)\n",
            "Requirement already satisfied: requests>=2.20 in /usr/local/lib/python3.7/dist-packages (from yfinance) (2.23.0)\n",
            "Requirement already satisfied: multitasking>=0.0.7 in /usr/local/lib/python3.7/dist-packages (from yfinance) (0.0.9)\n",
            "Collecting lxml>=4.5.1\n",
            "  Downloading lxml-4.6.3-cp37-cp37m-manylinux2014_x86_64.whl (6.3 MB)\n",
            "\u001b[K     |████████████████████████████████| 6.3 MB 7.8 MB/s \n",
            "\u001b[?25hRequirement already satisfied: pytz>=2017.2 in /usr/local/lib/python3.7/dist-packages (from pandas>=0.24->yfinance) (2018.9)\n",
            "Requirement already satisfied: python-dateutil>=2.7.3 in /usr/local/lib/python3.7/dist-packages (from pandas>=0.24->yfinance) (2.8.2)\n",
            "Requirement already satisfied: six>=1.5 in /usr/local/lib/python3.7/dist-packages (from python-dateutil>=2.7.3->pandas>=0.24->yfinance) (1.15.0)\n",
            "Requirement already satisfied: certifi>=2017.4.17 in /usr/local/lib/python3.7/dist-packages (from requests>=2.20->yfinance) (2021.5.30)\n",
            "Requirement already satisfied: chardet<4,>=3.0.2 in /usr/local/lib/python3.7/dist-packages (from requests>=2.20->yfinance) (3.0.4)\n",
            "Requirement already satisfied: idna<3,>=2.5 in /usr/local/lib/python3.7/dist-packages (from requests>=2.20->yfinance) (2.10)\n",
            "Requirement already satisfied: urllib3!=1.25.0,!=1.25.1,<1.26,>=1.21.1 in /usr/local/lib/python3.7/dist-packages (from requests>=2.20->yfinance) (1.24.3)\n",
            "Building wheels for collected packages: yfinance\n",
            "  Building wheel for yfinance (setup.py) ... \u001b[?25l\u001b[?25hdone\n",
            "  Created wheel for yfinance: filename=yfinance-0.1.63-py2.py3-none-any.whl size=23918 sha256=7a1aef2a1ae127fa9db37b87d84984ca1581f1cc89d61259afd8dad6af449f18\n",
            "  Stored in directory: /root/.cache/pip/wheels/fe/87/8b/7ec24486e001d3926537f5f7801f57a74d181be25b11157983\n",
            "Successfully built yfinance\n",
            "Installing collected packages: lxml, yfinance\n",
            "  Attempting uninstall: lxml\n",
            "    Found existing installation: lxml 4.2.6\n",
            "    Uninstalling lxml-4.2.6:\n",
            "      Successfully uninstalled lxml-4.2.6\n",
            "Successfully installed lxml-4.6.3 yfinance-0.1.63\n"
          ]
        }
      ]
    },
    {
      "cell_type": "code",
      "metadata": {
        "id": "7wCoftrqrreP",
        "colab": {
          "base_uri": "https://localhost:8080/"
        },
        "outputId": "8fb2e511-a8f4-46e9-bad4-e4f7fb659c62"
      },
      "source": [
        "pip install ta"
      ],
      "execution_count": null,
      "outputs": [
        {
          "output_type": "stream",
          "name": "stdout",
          "text": [
            "Collecting ta\n",
            "  Downloading ta-0.7.0.tar.gz (25 kB)\n",
            "Requirement already satisfied: numpy in /usr/local/lib/python3.7/dist-packages (from ta) (1.19.5)\n",
            "Requirement already satisfied: pandas in /usr/local/lib/python3.7/dist-packages (from ta) (1.1.5)\n",
            "Requirement already satisfied: python-dateutil>=2.7.3 in /usr/local/lib/python3.7/dist-packages (from pandas->ta) (2.8.2)\n",
            "Requirement already satisfied: pytz>=2017.2 in /usr/local/lib/python3.7/dist-packages (from pandas->ta) (2018.9)\n",
            "Requirement already satisfied: six>=1.5 in /usr/local/lib/python3.7/dist-packages (from python-dateutil>=2.7.3->pandas->ta) (1.15.0)\n",
            "Building wheels for collected packages: ta\n",
            "  Building wheel for ta (setup.py) ... \u001b[?25l\u001b[?25hdone\n",
            "  Created wheel for ta: filename=ta-0.7.0-py3-none-any.whl size=28718 sha256=69f6433a0815b201e12243d574485414f73f16db5c4951ddbc25c226a82385c1\n",
            "  Stored in directory: /root/.cache/pip/wheels/5e/74/e0/72395003bd1d3c8f3f5860c2d180ff15699e47a2733d8ebd38\n",
            "Successfully built ta\n",
            "Installing collected packages: ta\n",
            "Successfully installed ta-0.7.0\n"
          ]
        }
      ]
    },
    {
      "cell_type": "markdown",
      "metadata": {
        "id": "6zaoGOtoCjPq"
      },
      "source": [
        "#### 1.2. Se cargan las librerías necesarias"
      ]
    },
    {
      "cell_type": "code",
      "metadata": {
        "id": "cVO4GoZZCgc8"
      },
      "source": [
        "# Funciones numéricas adicionales\n",
        "import numpy as np\n",
        "\n",
        "# Lectura de datos y manejo de Data-sets\n",
        "import pandas as pd\n",
        "\n",
        "# Datos\n",
        "import yfinance as yfin\n",
        "\n",
        "# Gráficos \n",
        "import matplotlib.pyplot as plt\n",
        "\n",
        "# Análisis Técnico\n",
        "import ta\n",
        "\n",
        "# Funciones \n",
        "from sklearn.model_selection import train_test_split\n",
        "from sklearn.preprocessing import StandardScaler\n",
        "\n",
        "# Medidas de desempeño\n",
        "from sklearn.metrics import accuracy_score, confusion_matrix, plot_roc_curve\n",
        "\n",
        "# Support Vector Machine (SVM) / Support Vector Classification (SVC)\n",
        "from sklearn.svm import SVC\n",
        "\n",
        "# Decision Tree Classifier\n",
        "from sklearn.tree import DecisionTreeClassifier\n",
        "\n",
        "# Random Forest Classifier\n",
        "from sklearn.ensemble import RandomForestClassifier\n",
        "\n",
        "# Redes Neuronales / Multi-layer Perceptron (MLP) \n",
        "from sklearn.neural_network import MLPClassifier"
      ],
      "execution_count": null,
      "outputs": []
    },
    {
      "cell_type": "markdown",
      "metadata": {
        "id": "0Dvota99Cn_O"
      },
      "source": [
        "## 2. Obtención de datos históricos\n"
      ]
    },
    {
      "cell_type": "markdown",
      "metadata": {
        "id": "R_4CbC3JCq--"
      },
      "source": [
        "https://finance.yahoo.com/"
      ]
    },
    {
      "cell_type": "code",
      "metadata": {
        "id": "7z9AKmNdCr7v",
        "colab": {
          "base_uri": "https://localhost:8080/",
          "height": 472
        },
        "outputId": "0916bdc2-ff27-4b18-f7cd-12c2dcb50ed4"
      },
      "source": [
        "# Descargamos datos de 1 años de la acción de Tesla\n",
        "df = yfin.download('BTC-USD',start='2016-01-01', end='2021-01-01')\n",
        "df"
      ],
      "execution_count": null,
      "outputs": [
        {
          "output_type": "stream",
          "name": "stdout",
          "text": [
            "\r[*********************100%***********************]  1 of 1 completed\n"
          ]
        },
        {
          "output_type": "execute_result",
          "data": {
            "text/html": [
              "<div>\n",
              "<style scoped>\n",
              "    .dataframe tbody tr th:only-of-type {\n",
              "        vertical-align: middle;\n",
              "    }\n",
              "\n",
              "    .dataframe tbody tr th {\n",
              "        vertical-align: top;\n",
              "    }\n",
              "\n",
              "    .dataframe thead th {\n",
              "        text-align: right;\n",
              "    }\n",
              "</style>\n",
              "<table border=\"1\" class=\"dataframe\">\n",
              "  <thead>\n",
              "    <tr style=\"text-align: right;\">\n",
              "      <th></th>\n",
              "      <th>Open</th>\n",
              "      <th>High</th>\n",
              "      <th>Low</th>\n",
              "      <th>Close</th>\n",
              "      <th>Adj Close</th>\n",
              "      <th>Volume</th>\n",
              "    </tr>\n",
              "    <tr>\n",
              "      <th>Date</th>\n",
              "      <th></th>\n",
              "      <th></th>\n",
              "      <th></th>\n",
              "      <th></th>\n",
              "      <th></th>\n",
              "      <th></th>\n",
              "    </tr>\n",
              "  </thead>\n",
              "  <tbody>\n",
              "    <tr>\n",
              "      <th>2016-01-01</th>\n",
              "      <td>430.721008</td>\n",
              "      <td>436.246002</td>\n",
              "      <td>427.515015</td>\n",
              "      <td>434.334015</td>\n",
              "      <td>434.334015</td>\n",
              "      <td>36278900</td>\n",
              "    </tr>\n",
              "    <tr>\n",
              "      <th>2016-01-02</th>\n",
              "      <td>434.622009</td>\n",
              "      <td>436.062012</td>\n",
              "      <td>431.869995</td>\n",
              "      <td>433.437988</td>\n",
              "      <td>433.437988</td>\n",
              "      <td>30096600</td>\n",
              "    </tr>\n",
              "    <tr>\n",
              "      <th>2016-01-03</th>\n",
              "      <td>433.578003</td>\n",
              "      <td>433.743011</td>\n",
              "      <td>424.705994</td>\n",
              "      <td>430.010986</td>\n",
              "      <td>430.010986</td>\n",
              "      <td>39633800</td>\n",
              "    </tr>\n",
              "    <tr>\n",
              "      <th>2016-01-04</th>\n",
              "      <td>430.061005</td>\n",
              "      <td>434.516998</td>\n",
              "      <td>429.084015</td>\n",
              "      <td>433.091003</td>\n",
              "      <td>433.091003</td>\n",
              "      <td>38477500</td>\n",
              "    </tr>\n",
              "    <tr>\n",
              "      <th>2016-01-05</th>\n",
              "      <td>433.069000</td>\n",
              "      <td>434.182007</td>\n",
              "      <td>429.675995</td>\n",
              "      <td>431.959991</td>\n",
              "      <td>431.959991</td>\n",
              "      <td>34522600</td>\n",
              "    </tr>\n",
              "    <tr>\n",
              "      <th>...</th>\n",
              "      <td>...</td>\n",
              "      <td>...</td>\n",
              "      <td>...</td>\n",
              "      <td>...</td>\n",
              "      <td>...</td>\n",
              "      <td>...</td>\n",
              "    </tr>\n",
              "    <tr>\n",
              "      <th>2020-12-28</th>\n",
              "      <td>26280.822266</td>\n",
              "      <td>27389.111328</td>\n",
              "      <td>26207.640625</td>\n",
              "      <td>27084.808594</td>\n",
              "      <td>27084.808594</td>\n",
              "      <td>49056742893</td>\n",
              "    </tr>\n",
              "    <tr>\n",
              "      <th>2020-12-29</th>\n",
              "      <td>27081.810547</td>\n",
              "      <td>27370.720703</td>\n",
              "      <td>25987.298828</td>\n",
              "      <td>27362.437500</td>\n",
              "      <td>27362.437500</td>\n",
              "      <td>45265946774</td>\n",
              "    </tr>\n",
              "    <tr>\n",
              "      <th>2020-12-30</th>\n",
              "      <td>27360.089844</td>\n",
              "      <td>28937.740234</td>\n",
              "      <td>27360.089844</td>\n",
              "      <td>28840.953125</td>\n",
              "      <td>28840.953125</td>\n",
              "      <td>51287442704</td>\n",
              "    </tr>\n",
              "    <tr>\n",
              "      <th>2020-12-31</th>\n",
              "      <td>28841.574219</td>\n",
              "      <td>29244.876953</td>\n",
              "      <td>28201.992188</td>\n",
              "      <td>29001.720703</td>\n",
              "      <td>29001.720703</td>\n",
              "      <td>46754964848</td>\n",
              "    </tr>\n",
              "    <tr>\n",
              "      <th>2021-01-01</th>\n",
              "      <td>28994.009766</td>\n",
              "      <td>29600.626953</td>\n",
              "      <td>28803.585938</td>\n",
              "      <td>29374.152344</td>\n",
              "      <td>29374.152344</td>\n",
              "      <td>40730301359</td>\n",
              "    </tr>\n",
              "  </tbody>\n",
              "</table>\n",
              "<p>1824 rows × 6 columns</p>\n",
              "</div>"
            ],
            "text/plain": [
              "                    Open          High  ...     Adj Close       Volume\n",
              "Date                                    ...                           \n",
              "2016-01-01    430.721008    436.246002  ...    434.334015     36278900\n",
              "2016-01-02    434.622009    436.062012  ...    433.437988     30096600\n",
              "2016-01-03    433.578003    433.743011  ...    430.010986     39633800\n",
              "2016-01-04    430.061005    434.516998  ...    433.091003     38477500\n",
              "2016-01-05    433.069000    434.182007  ...    431.959991     34522600\n",
              "...                  ...           ...  ...           ...          ...\n",
              "2020-12-28  26280.822266  27389.111328  ...  27084.808594  49056742893\n",
              "2020-12-29  27081.810547  27370.720703  ...  27362.437500  45265946774\n",
              "2020-12-30  27360.089844  28937.740234  ...  28840.953125  51287442704\n",
              "2020-12-31  28841.574219  29244.876953  ...  29001.720703  46754964848\n",
              "2021-01-01  28994.009766  29600.626953  ...  29374.152344  40730301359\n",
              "\n",
              "[1824 rows x 6 columns]"
            ]
          },
          "metadata": {},
          "execution_count": 4
        }
      ]
    },
    {
      "cell_type": "markdown",
      "metadata": {
        "id": "hJAMd1vGtaJM"
      },
      "source": [
        "## 3. Análisis Técnico "
      ]
    },
    {
      "cell_type": "code",
      "metadata": {
        "colab": {
          "base_uri": "https://localhost:8080/",
          "height": 649
        },
        "id": "Fgd3zwkadz3W",
        "outputId": "d0400fc6-b6f1-40b5-b954-1f569ae34a8f"
      },
      "source": [
        "# Incluir todo el anáñisis técnico a la base de datos\n",
        "\n",
        "# Medias móviles exponenciales\n",
        "df['EMA_5'] = ta.trend.ema_indicator(close=df[\"Close\"], window=5, fillna=True)/df[\"Close\"]\n",
        "df['EMA_20'] = ta.trend.ema_indicator(close=df[\"Close\"], window=20, fillna=True)/df[\"Close\"]\n",
        "df['EMA_50'] = ta.trend.ema_indicator(close=df[\"Close\"], window=50, fillna=True)/df[\"Close\"]\n",
        "df['EMA_100'] = ta.trend.ema_indicator(close=df[\"Close\"], window=100, fillna=True)/df[\"Close\"]\n",
        "\n",
        "# Índice de fuerza relativa\n",
        "df['RSI'] = ta.momentum.rsi(close=df[\"Close\"], fillna=True)\n",
        "\n",
        "# Rango medio verdadero\n",
        "df['ATR'] = ta.volatility.average_true_range(high=df[\"High\"], low=df[\"Low\"], close=df[\"Close\"], fillna=True)\n",
        "\n",
        "# Rango de porcentaje de wiliams\n",
        "df['WR'] = ta.momentum.williams_r(high=df[\"High\"], low=df[\"Low\"], close=df[\"Close\"], fillna=True)\n",
        "\n",
        "df"
      ],
      "execution_count": null,
      "outputs": [
        {
          "output_type": "execute_result",
          "data": {
            "text/html": [
              "<div>\n",
              "<style scoped>\n",
              "    .dataframe tbody tr th:only-of-type {\n",
              "        vertical-align: middle;\n",
              "    }\n",
              "\n",
              "    .dataframe tbody tr th {\n",
              "        vertical-align: top;\n",
              "    }\n",
              "\n",
              "    .dataframe thead th {\n",
              "        text-align: right;\n",
              "    }\n",
              "</style>\n",
              "<table border=\"1\" class=\"dataframe\">\n",
              "  <thead>\n",
              "    <tr style=\"text-align: right;\">\n",
              "      <th></th>\n",
              "      <th>Open</th>\n",
              "      <th>High</th>\n",
              "      <th>Low</th>\n",
              "      <th>Close</th>\n",
              "      <th>Adj Close</th>\n",
              "      <th>Volume</th>\n",
              "      <th>EMA_5</th>\n",
              "      <th>EMA_20</th>\n",
              "      <th>EMA_50</th>\n",
              "      <th>EMA_100</th>\n",
              "      <th>RSI</th>\n",
              "      <th>ATR</th>\n",
              "      <th>WR</th>\n",
              "    </tr>\n",
              "    <tr>\n",
              "      <th>Date</th>\n",
              "      <th></th>\n",
              "      <th></th>\n",
              "      <th></th>\n",
              "      <th></th>\n",
              "      <th></th>\n",
              "      <th></th>\n",
              "      <th></th>\n",
              "      <th></th>\n",
              "      <th></th>\n",
              "      <th></th>\n",
              "      <th></th>\n",
              "      <th></th>\n",
              "      <th></th>\n",
              "    </tr>\n",
              "  </thead>\n",
              "  <tbody>\n",
              "    <tr>\n",
              "      <th>2016-01-01</th>\n",
              "      <td>430.721008</td>\n",
              "      <td>436.246002</td>\n",
              "      <td>427.515015</td>\n",
              "      <td>434.334015</td>\n",
              "      <td>434.334015</td>\n",
              "      <td>36278900</td>\n",
              "      <td>1.000000</td>\n",
              "      <td>1.000000</td>\n",
              "      <td>1.000000</td>\n",
              "      <td>1.000000</td>\n",
              "      <td>100.000000</td>\n",
              "      <td>0.000000</td>\n",
              "      <td>-21.898866</td>\n",
              "    </tr>\n",
              "    <tr>\n",
              "      <th>2016-01-02</th>\n",
              "      <td>434.622009</td>\n",
              "      <td>436.062012</td>\n",
              "      <td>431.869995</td>\n",
              "      <td>433.437988</td>\n",
              "      <td>433.437988</td>\n",
              "      <td>30096600</td>\n",
              "      <td>1.001378</td>\n",
              "      <td>1.001870</td>\n",
              "      <td>1.001986</td>\n",
              "      <td>1.002026</td>\n",
              "      <td>0.000000</td>\n",
              "      <td>0.000000</td>\n",
              "      <td>-32.161470</td>\n",
              "    </tr>\n",
              "    <tr>\n",
              "      <th>2016-01-03</th>\n",
              "      <td>433.578003</td>\n",
              "      <td>433.743011</td>\n",
              "      <td>424.705994</td>\n",
              "      <td>430.010986</td>\n",
              "      <td>430.010986</td>\n",
              "      <td>39633800</td>\n",
              "      <td>1.006239</td>\n",
              "      <td>1.008916</td>\n",
              "      <td>1.009581</td>\n",
              "      <td>1.009814</td>\n",
              "      <td>0.000000</td>\n",
              "      <td>0.000000</td>\n",
              "      <td>-54.029560</td>\n",
              "    </tr>\n",
              "    <tr>\n",
              "      <th>2016-01-04</th>\n",
              "      <td>430.061005</td>\n",
              "      <td>434.516998</td>\n",
              "      <td>429.084015</td>\n",
              "      <td>433.091003</td>\n",
              "      <td>433.091003</td>\n",
              "      <td>38477500</td>\n",
              "      <td>0.999389</td>\n",
              "      <td>1.001575</td>\n",
              "      <td>1.002307</td>\n",
              "      <td>1.002580</td>\n",
              "      <td>43.782411</td>\n",
              "      <td>0.000000</td>\n",
              "      <td>-27.339657</td>\n",
              "    </tr>\n",
              "    <tr>\n",
              "      <th>2016-01-05</th>\n",
              "      <td>433.069000</td>\n",
              "      <td>434.182007</td>\n",
              "      <td>429.675995</td>\n",
              "      <td>431.959991</td>\n",
              "      <td>431.959991</td>\n",
              "      <td>34522600</td>\n",
              "      <td>1.001337</td>\n",
              "      <td>1.003798</td>\n",
              "      <td>1.004738</td>\n",
              "      <td>1.005102</td>\n",
              "      <td>37.320691</td>\n",
              "      <td>0.000000</td>\n",
              "      <td>-37.140447</td>\n",
              "    </tr>\n",
              "    <tr>\n",
              "      <th>...</th>\n",
              "      <td>...</td>\n",
              "      <td>...</td>\n",
              "      <td>...</td>\n",
              "      <td>...</td>\n",
              "      <td>...</td>\n",
              "      <td>...</td>\n",
              "      <td>...</td>\n",
              "      <td>...</td>\n",
              "      <td>...</td>\n",
              "      <td>...</td>\n",
              "      <td>...</td>\n",
              "      <td>...</td>\n",
              "      <td>...</td>\n",
              "    </tr>\n",
              "    <tr>\n",
              "      <th>2020-12-28</th>\n",
              "      <td>26280.822266</td>\n",
              "      <td>27389.111328</td>\n",
              "      <td>26207.640625</td>\n",
              "      <td>27084.808594</td>\n",
              "      <td>27084.808594</td>\n",
              "      <td>49056742893</td>\n",
              "      <td>0.953665</td>\n",
              "      <td>0.847414</td>\n",
              "      <td>0.737634</td>\n",
              "      <td>0.634100</td>\n",
              "      <td>78.691073</td>\n",
              "      <td>1246.831527</td>\n",
              "      <td>-13.074509</td>\n",
              "    </tr>\n",
              "    <tr>\n",
              "      <th>2020-12-29</th>\n",
              "      <td>27081.810547</td>\n",
              "      <td>27370.720703</td>\n",
              "      <td>25987.298828</td>\n",
              "      <td>27362.437500</td>\n",
              "      <td>27362.437500</td>\n",
              "      <td>45265946774</td>\n",
              "      <td>0.962659</td>\n",
              "      <td>0.854167</td>\n",
              "      <td>0.740732</td>\n",
              "      <td>0.635039</td>\n",
              "      <td>79.349097</td>\n",
              "      <td>1256.587981</td>\n",
              "      <td>-10.304209</td>\n",
              "    </tr>\n",
              "    <tr>\n",
              "      <th>2020-12-30</th>\n",
              "      <td>27360.089844</td>\n",
              "      <td>28937.740234</td>\n",
              "      <td>27360.089844</td>\n",
              "      <td>28840.953125</td>\n",
              "      <td>28840.953125</td>\n",
              "      <td>51287442704</td>\n",
              "      <td>0.942206</td>\n",
              "      <td>0.828438</td>\n",
              "      <td>0.714415</td>\n",
              "      <td>0.610355</td>\n",
              "      <td>82.456164</td>\n",
              "      <td>1279.521010</td>\n",
              "      <td>-1.256475</td>\n",
              "    </tr>\n",
              "    <tr>\n",
              "      <th>2020-12-31</th>\n",
              "      <td>28841.574219</td>\n",
              "      <td>29244.876953</td>\n",
              "      <td>28201.992188</td>\n",
              "      <td>29001.720703</td>\n",
              "      <td>29001.720703</td>\n",
              "      <td>46754964848</td>\n",
              "      <td>0.957989</td>\n",
              "      <td>0.840622</td>\n",
              "      <td>0.721810</td>\n",
              "      <td>0.614755</td>\n",
              "      <td>82.759909</td>\n",
              "      <td>1262.618421</td>\n",
              "      <td>-3.431740</td>\n",
              "    </tr>\n",
              "    <tr>\n",
              "      <th>2021-01-01</th>\n",
              "      <td>28994.009766</td>\n",
              "      <td>29600.626953</td>\n",
              "      <td>28803.585938</td>\n",
              "      <td>29374.152344</td>\n",
              "      <td>29374.152344</td>\n",
              "      <td>40730301359</td>\n",
              "      <td>0.963895</td>\n",
              "      <td>0.846158</td>\n",
              "      <td>0.723926</td>\n",
              "      <td>0.614743</td>\n",
              "      <td>83.473733</td>\n",
              "      <td>1229.362892</td>\n",
              "      <td>-3.043498</td>\n",
              "    </tr>\n",
              "  </tbody>\n",
              "</table>\n",
              "<p>1824 rows × 13 columns</p>\n",
              "</div>"
            ],
            "text/plain": [
              "                    Open          High  ...          ATR         WR\n",
              "Date                                    ...                        \n",
              "2016-01-01    430.721008    436.246002  ...     0.000000 -21.898866\n",
              "2016-01-02    434.622009    436.062012  ...     0.000000 -32.161470\n",
              "2016-01-03    433.578003    433.743011  ...     0.000000 -54.029560\n",
              "2016-01-04    430.061005    434.516998  ...     0.000000 -27.339657\n",
              "2016-01-05    433.069000    434.182007  ...     0.000000 -37.140447\n",
              "...                  ...           ...  ...          ...        ...\n",
              "2020-12-28  26280.822266  27389.111328  ...  1246.831527 -13.074509\n",
              "2020-12-29  27081.810547  27370.720703  ...  1256.587981 -10.304209\n",
              "2020-12-30  27360.089844  28937.740234  ...  1279.521010  -1.256475\n",
              "2020-12-31  28841.574219  29244.876953  ...  1262.618421  -3.431740\n",
              "2021-01-01  28994.009766  29600.626953  ...  1229.362892  -3.043498\n",
              "\n",
              "[1824 rows x 13 columns]"
            ]
          },
          "metadata": {},
          "execution_count": 5
        }
      ]
    },
    {
      "cell_type": "code",
      "metadata": {
        "colab": {
          "base_uri": "https://localhost:8080/",
          "height": 649
        },
        "id": "Aq5LU3L0ynyO",
        "outputId": "50327317-2f3e-4dd6-8614-c13a342dc6d7"
      },
      "source": [
        "# Crea el Target (1 si el precio sube el día siguiente, -1 si baja)\n",
        "cl = np.array(df['Close'])\n",
        "target = np.where(cl[1:] > cl[:-1], 1, -1)\n",
        "\n",
        "# Elimina el ultimo día para el que no tenemos info del precio el día siguiente.\n",
        "df.drop(df.tail(1).index, inplace=True)\n",
        "\n",
        "# Creamos la columna target\n",
        "df['Target'] = target\n",
        "\n",
        "# Elimina los primeros 29 días dónde los indicadores técnicos no tienen suficiente info\n",
        "df.drop(df.head(29).index, inplace=True)\n",
        "\n",
        "df"
      ],
      "execution_count": null,
      "outputs": [
        {
          "output_type": "execute_result",
          "data": {
            "text/html": [
              "<div>\n",
              "<style scoped>\n",
              "    .dataframe tbody tr th:only-of-type {\n",
              "        vertical-align: middle;\n",
              "    }\n",
              "\n",
              "    .dataframe tbody tr th {\n",
              "        vertical-align: top;\n",
              "    }\n",
              "\n",
              "    .dataframe thead th {\n",
              "        text-align: right;\n",
              "    }\n",
              "</style>\n",
              "<table border=\"1\" class=\"dataframe\">\n",
              "  <thead>\n",
              "    <tr style=\"text-align: right;\">\n",
              "      <th></th>\n",
              "      <th>Open</th>\n",
              "      <th>High</th>\n",
              "      <th>Low</th>\n",
              "      <th>Close</th>\n",
              "      <th>Adj Close</th>\n",
              "      <th>Volume</th>\n",
              "      <th>EMA_5</th>\n",
              "      <th>EMA_20</th>\n",
              "      <th>EMA_50</th>\n",
              "      <th>EMA_100</th>\n",
              "      <th>RSI</th>\n",
              "      <th>ATR</th>\n",
              "      <th>WR</th>\n",
              "      <th>Target</th>\n",
              "    </tr>\n",
              "    <tr>\n",
              "      <th>Date</th>\n",
              "      <th></th>\n",
              "      <th></th>\n",
              "      <th></th>\n",
              "      <th></th>\n",
              "      <th></th>\n",
              "      <th></th>\n",
              "      <th></th>\n",
              "      <th></th>\n",
              "      <th></th>\n",
              "      <th></th>\n",
              "      <th></th>\n",
              "      <th></th>\n",
              "      <th></th>\n",
              "      <th></th>\n",
              "    </tr>\n",
              "  </thead>\n",
              "  <tbody>\n",
              "    <tr>\n",
              "      <th>2016-01-30</th>\n",
              "      <td>378.864990</td>\n",
              "      <td>380.916992</td>\n",
              "      <td>376.490997</td>\n",
              "      <td>378.255005</td>\n",
              "      <td>378.255005</td>\n",
              "      <td>30284400</td>\n",
              "      <td>1.014102</td>\n",
              "      <td>1.053229</td>\n",
              "      <td>1.094312</td>\n",
              "      <td>1.117589</td>\n",
              "      <td>39.405583</td>\n",
              "      <td>15.224229</td>\n",
              "      <td>-78.595656</td>\n",
              "      <td>-1</td>\n",
              "    </tr>\n",
              "    <tr>\n",
              "      <th>2016-01-31</th>\n",
              "      <td>378.292999</td>\n",
              "      <td>380.346985</td>\n",
              "      <td>367.834991</td>\n",
              "      <td>368.766998</td>\n",
              "      <td>368.766998</td>\n",
              "      <td>37894300</td>\n",
              "      <td>1.026796</td>\n",
              "      <td>1.072678</td>\n",
              "      <td>1.117665</td>\n",
              "      <td>1.143446</td>\n",
              "      <td>36.506644</td>\n",
              "      <td>15.030498</td>\n",
              "      <td>-94.457908</td>\n",
              "      <td>1</td>\n",
              "    </tr>\n",
              "    <tr>\n",
              "      <th>2016-02-01</th>\n",
              "      <td>369.350006</td>\n",
              "      <td>378.071991</td>\n",
              "      <td>367.957001</td>\n",
              "      <td>373.056000</td>\n",
              "      <td>373.056000</td>\n",
              "      <td>51656700</td>\n",
              "      <td>1.009994</td>\n",
              "      <td>1.054598</td>\n",
              "      <td>1.100705</td>\n",
              "      <td>1.127720</td>\n",
              "      <td>38.701944</td>\n",
              "      <td>14.679390</td>\n",
              "      <td>-87.287464</td>\n",
              "      <td>1</td>\n",
              "    </tr>\n",
              "    <tr>\n",
              "      <th>2016-02-02</th>\n",
              "      <td>372.920013</td>\n",
              "      <td>375.882996</td>\n",
              "      <td>372.920013</td>\n",
              "      <td>374.447998</td>\n",
              "      <td>374.447998</td>\n",
              "      <td>40378700</td>\n",
              "      <td>1.004160</td>\n",
              "      <td>1.045851</td>\n",
              "      <td>1.092825</td>\n",
              "      <td>1.121081</td>\n",
              "      <td>39.433863</td>\n",
              "      <td>13.842504</td>\n",
              "      <td>-84.960291</td>\n",
              "      <td>-1</td>\n",
              "    </tr>\n",
              "    <tr>\n",
              "      <th>2016-02-03</th>\n",
              "      <td>374.645996</td>\n",
              "      <td>374.950012</td>\n",
              "      <td>368.045013</td>\n",
              "      <td>369.949005</td>\n",
              "      <td>369.949005</td>\n",
              "      <td>45933400</td>\n",
              "      <td>1.010914</td>\n",
              "      <td>1.052992</td>\n",
              "      <td>1.101953</td>\n",
              "      <td>1.132047</td>\n",
              "      <td>37.860379</td>\n",
              "      <td>13.346968</td>\n",
              "      <td>-92.168902</td>\n",
              "      <td>1</td>\n",
              "    </tr>\n",
              "    <tr>\n",
              "      <th>...</th>\n",
              "      <td>...</td>\n",
              "      <td>...</td>\n",
              "      <td>...</td>\n",
              "      <td>...</td>\n",
              "      <td>...</td>\n",
              "      <td>...</td>\n",
              "      <td>...</td>\n",
              "      <td>...</td>\n",
              "      <td>...</td>\n",
              "      <td>...</td>\n",
              "      <td>...</td>\n",
              "      <td>...</td>\n",
              "      <td>...</td>\n",
              "      <td>...</td>\n",
              "    </tr>\n",
              "    <tr>\n",
              "      <th>2020-12-27</th>\n",
              "      <td>26439.373047</td>\n",
              "      <td>28288.839844</td>\n",
              "      <td>25922.769531</td>\n",
              "      <td>26272.294922</td>\n",
              "      <td>26272.294922</td>\n",
              "      <td>66479895605</td>\n",
              "      <td>0.959275</td>\n",
              "      <td>0.857064</td>\n",
              "      <td>0.749406</td>\n",
              "      <td>0.646090</td>\n",
              "      <td>76.670934</td>\n",
              "      <td>1251.859283</td>\n",
              "      <td>-21.739074</td>\n",
              "      <td>1</td>\n",
              "    </tr>\n",
              "    <tr>\n",
              "      <th>2020-12-28</th>\n",
              "      <td>26280.822266</td>\n",
              "      <td>27389.111328</td>\n",
              "      <td>26207.640625</td>\n",
              "      <td>27084.808594</td>\n",
              "      <td>27084.808594</td>\n",
              "      <td>49056742893</td>\n",
              "      <td>0.953665</td>\n",
              "      <td>0.847414</td>\n",
              "      <td>0.737634</td>\n",
              "      <td>0.634100</td>\n",
              "      <td>78.691073</td>\n",
              "      <td>1246.831527</td>\n",
              "      <td>-13.074509</td>\n",
              "      <td>1</td>\n",
              "    </tr>\n",
              "    <tr>\n",
              "      <th>2020-12-29</th>\n",
              "      <td>27081.810547</td>\n",
              "      <td>27370.720703</td>\n",
              "      <td>25987.298828</td>\n",
              "      <td>27362.437500</td>\n",
              "      <td>27362.437500</td>\n",
              "      <td>45265946774</td>\n",
              "      <td>0.962659</td>\n",
              "      <td>0.854167</td>\n",
              "      <td>0.740732</td>\n",
              "      <td>0.635039</td>\n",
              "      <td>79.349097</td>\n",
              "      <td>1256.587981</td>\n",
              "      <td>-10.304209</td>\n",
              "      <td>1</td>\n",
              "    </tr>\n",
              "    <tr>\n",
              "      <th>2020-12-30</th>\n",
              "      <td>27360.089844</td>\n",
              "      <td>28937.740234</td>\n",
              "      <td>27360.089844</td>\n",
              "      <td>28840.953125</td>\n",
              "      <td>28840.953125</td>\n",
              "      <td>51287442704</td>\n",
              "      <td>0.942206</td>\n",
              "      <td>0.828438</td>\n",
              "      <td>0.714415</td>\n",
              "      <td>0.610355</td>\n",
              "      <td>82.456164</td>\n",
              "      <td>1279.521010</td>\n",
              "      <td>-1.256475</td>\n",
              "      <td>1</td>\n",
              "    </tr>\n",
              "    <tr>\n",
              "      <th>2020-12-31</th>\n",
              "      <td>28841.574219</td>\n",
              "      <td>29244.876953</td>\n",
              "      <td>28201.992188</td>\n",
              "      <td>29001.720703</td>\n",
              "      <td>29001.720703</td>\n",
              "      <td>46754964848</td>\n",
              "      <td>0.957989</td>\n",
              "      <td>0.840622</td>\n",
              "      <td>0.721810</td>\n",
              "      <td>0.614755</td>\n",
              "      <td>82.759909</td>\n",
              "      <td>1262.618421</td>\n",
              "      <td>-3.431740</td>\n",
              "      <td>1</td>\n",
              "    </tr>\n",
              "  </tbody>\n",
              "</table>\n",
              "<p>1794 rows × 14 columns</p>\n",
              "</div>"
            ],
            "text/plain": [
              "                    Open          High  ...         WR  Target\n",
              "Date                                    ...                   \n",
              "2016-01-30    378.864990    380.916992  ... -78.595656      -1\n",
              "2016-01-31    378.292999    380.346985  ... -94.457908       1\n",
              "2016-02-01    369.350006    378.071991  ... -87.287464       1\n",
              "2016-02-02    372.920013    375.882996  ... -84.960291      -1\n",
              "2016-02-03    374.645996    374.950012  ... -92.168902       1\n",
              "...                  ...           ...  ...        ...     ...\n",
              "2020-12-27  26439.373047  28288.839844  ... -21.739074       1\n",
              "2020-12-28  26280.822266  27389.111328  ... -13.074509       1\n",
              "2020-12-29  27081.810547  27370.720703  ... -10.304209       1\n",
              "2020-12-30  27360.089844  28937.740234  ...  -1.256475       1\n",
              "2020-12-31  28841.574219  29244.876953  ...  -3.431740       1\n",
              "\n",
              "[1794 rows x 14 columns]"
            ]
          },
          "metadata": {},
          "execution_count": 6
        }
      ]
    },
    {
      "cell_type": "markdown",
      "metadata": {
        "id": "L0uCcDmyJTFM"
      },
      "source": [
        "## 4. Conjunto de entrenamiento y prueba"
      ]
    },
    {
      "cell_type": "code",
      "metadata": {
        "colab": {
          "base_uri": "https://localhost:8080/"
        },
        "id": "E1xXhH-mr7Iz",
        "outputId": "1fc2b690-4db9-4025-a16d-74b5d032c840"
      },
      "source": [
        "# Divida el conjunto de datos en una característica o un conjunto de datos independiente (X) y un destino o conjunto de datos dependiente (Y)\n",
        "X = np.array(df.iloc[:, 6:-1])\n",
        "Y = np.array(df['Target'])\n",
        "\n",
        "print(X.shape)\n",
        "print(Y.shape)"
      ],
      "execution_count": null,
      "outputs": [
        {
          "output_type": "stream",
          "name": "stdout",
          "text": [
            "(1794, 7)\n",
            "(1794,)\n"
          ]
        }
      ]
    },
    {
      "cell_type": "code",
      "metadata": {
        "id": "SHrAH-ZsI2s1",
        "colab": {
          "base_uri": "https://localhost:8080/"
        },
        "outputId": "a65b29ff-ecfd-46d0-e7bb-9622b06f9107"
      },
      "source": [
        "# Vuelva a dividir los datos, pero esta vez en 90% de entrenamiento y 10% de prueba.\n",
        "X_train, X_test, Y_train, Y_test = train_test_split(X, Y, test_size = 0.1, shuffle=False)\n",
        "\n",
        "print(X_train.shape)\n",
        "print(X_test.shape)"
      ],
      "execution_count": null,
      "outputs": [
        {
          "output_type": "stream",
          "name": "stdout",
          "text": [
            "(1614, 7)\n",
            "(180, 7)\n"
          ]
        }
      ]
    },
    {
      "cell_type": "code",
      "metadata": {
        "id": "cAXksFBUsbzO"
      },
      "source": [
        "#Standardization\n",
        "ss = StandardScaler()\n",
        "X_train = ss.fit_transform(X_train)\n",
        "X_test = ss.transform(X_test)"
      ],
      "execution_count": null,
      "outputs": []
    },
    {
      "cell_type": "markdown",
      "metadata": {
        "id": "o01VaYhRB4CU"
      },
      "source": [
        "## 5. Machine Learning - Support Vector Classifier (SVC)"
      ]
    },
    {
      "cell_type": "code",
      "metadata": {
        "id": "ITp-5OPyCWVF"
      },
      "source": [
        "# Crear el modelo clasificador de Support Vector Machine.\n",
        "# Kernel radial\n",
        "svc = SVC(kernel='rbf')\n",
        "\n",
        "# Entrenar el modelo de SVM\n",
        "svc = svc.fit(X_train, Y_train)"
      ],
      "execution_count": null,
      "outputs": []
    },
    {
      "cell_type": "code",
      "metadata": {
        "colab": {
          "base_uri": "https://localhost:8080/"
        },
        "id": "a0NXNN1sCb6I",
        "outputId": "47422215-89d6-4e54-c530-5440b2f30c64"
      },
      "source": [
        "# Compruebe cómo le fue al modelo en el conjunto de datos de prueba\n",
        "svm_pred = svc.predict(X_test)\n",
        "\n",
        "print(\"Accuracy: {:.4f}\\n\".format( accuracy_score(Y_test, svm_pred) ))\n",
        "\n",
        "print(\"Confusion Matrix:\")\n",
        "print( confusion_matrix(Y_test, svm_pred) )"
      ],
      "execution_count": null,
      "outputs": [
        {
          "output_type": "stream",
          "name": "stdout",
          "text": [
            "Accuracy: 0.5778\n",
            "\n",
            "Confusion Matrix:\n",
            "[[16 54]\n",
            " [22 88]]\n"
          ]
        }
      ]
    },
    {
      "cell_type": "code",
      "metadata": {
        "colab": {
          "base_uri": "https://localhost:8080/",
          "height": 296
        },
        "id": "9kClbWh0Dgso",
        "outputId": "b8b47c4b-211b-4216-efe5-688e55333be7"
      },
      "source": [
        "# Curva ROC y AUC.\n",
        "plot_roc_curve(svc, X_test, Y_test)"
      ],
      "execution_count": null,
      "outputs": [
        {
          "output_type": "execute_result",
          "data": {
            "text/plain": [
              "<sklearn.metrics._plot.roc_curve.RocCurveDisplay at 0x7fddcbcc6a50>"
            ]
          },
          "metadata": {},
          "execution_count": 12
        },
        {
          "output_type": "display_data",
          "data": {
            "image/png": "[encoded data removed]",
            "text/plain": [
              "<Figure size 432x288 with 1 Axes>"
            ]
          },
          "metadata": {
            "needs_background": "light"
          }
        }
      ]
    },
    {
      "cell_type": "markdown",
      "metadata": {
        "id": "UunnZSSZe72G"
      },
      "source": [
        "## 6. Machine Learning - Decision Tree Classifer"
      ]
    },
    {
      "cell_type": "code",
      "metadata": {
        "id": "rcSj0_7p0EcX"
      },
      "source": [
        "# Crear el modelo clasificador de Árbol de Decisión.\n",
        "dtc = DecisionTreeClassifier()\n",
        "\n",
        "# Entrenar el Árbol de Decisión\n",
        "dtc = dtc.fit(X_train, Y_train)"
      ],
      "execution_count": null,
      "outputs": []
    },
    {
      "cell_type": "code",
      "metadata": {
        "colab": {
          "base_uri": "https://localhost:8080/"
        },
        "id": "Kw-GX3rT0o2h",
        "outputId": "74b08ba0-0705-4919-98f9-66175070c1a0"
      },
      "source": [
        "# Compruebe cómo le fue al modelo en el conjunto de datos de prueba\n",
        "dtc_pred = dtc.predict(X_test)\n",
        "\n",
        "print(\"Accuracy: {:.4f}\\n\".format( accuracy_score(Y_test, dtc_pred) ))\n",
        "\n",
        "print(\"Confusion Matrix:\")\n",
        "print( confusion_matrix(Y_test, dtc_pred) )"
      ],
      "execution_count": null,
      "outputs": [
        {
          "output_type": "stream",
          "name": "stdout",
          "text": [
            "Accuracy: 0.5167\n",
            "\n",
            "Confusion Matrix:\n",
            "[[35 35]\n",
            " [52 58]]\n"
          ]
        }
      ]
    },
    {
      "cell_type": "code",
      "metadata": {
        "colab": {
          "base_uri": "https://localhost:8080/",
          "height": 279
        },
        "id": "MpsH35pW1K7N",
        "outputId": "698236ab-4aee-4e64-a60e-9602c247ff9a"
      },
      "source": [
        "# Curva ROC y AUC.\n",
        "plot_roc_curve(dtc, X_test, Y_test)\n",
        "plt.show()"
      ],
      "execution_count": null,
      "outputs": [
        {
          "output_type": "display_data",
          "data": {
            "image/png": "[encoded data removed]",
            "text/plain": [
              "<Figure size 432x288 with 1 Axes>"
            ]
          },
          "metadata": {
            "needs_background": "light"
          }
        }
      ]
    },
    {
      "cell_type": "markdown",
      "metadata": {
        "id": "romG8tcxuud7"
      },
      "source": [
        "## 7. Machine Learning - Random Forest Classifier"
      ]
    },
    {
      "cell_type": "code",
      "metadata": {
        "id": "0nHxvMmi2U96"
      },
      "source": [
        "# Crear el modelo clasificador de Random Forest.\n",
        "rfc = RandomForestClassifier()\n",
        "\n",
        "# Entrenar el modelo de Random Forest\n",
        "rfc = rfc.fit(X_train, Y_train)"
      ],
      "execution_count": null,
      "outputs": []
    },
    {
      "cell_type": "code",
      "metadata": {
        "colab": {
          "base_uri": "https://localhost:8080/"
        },
        "id": "G8XinU042eMj",
        "outputId": "9eea3032-89d0-4a54-eecd-e3833b8c2a09"
      },
      "source": [
        "# Compruebe cómo le fue al modelo en el conjunto de datos de prueba\n",
        "rfc_pred = rfc.predict(X_test)\n",
        "\n",
        "print(\"Accuracy: {:.4f}\\n\".format( accuracy_score(Y_test, rfc_pred) ))\n",
        "\n",
        "print(\"Confusion Matrix:\")\n",
        "print( confusion_matrix(Y_test, rfc_pred) )"
      ],
      "execution_count": null,
      "outputs": [
        {
          "output_type": "stream",
          "name": "stdout",
          "text": [
            "Accuracy: 0.6500\n",
            "\n",
            "Confusion Matrix:\n",
            "[[46 24]\n",
            " [39 71]]\n"
          ]
        }
      ]
    },
    {
      "cell_type": "code",
      "metadata": {
        "id": "6gEIamrY2lGm",
        "colab": {
          "base_uri": "https://localhost:8080/",
          "height": 279
        },
        "outputId": "ae47defb-8d56-4fc3-8ec2-9786f15d4a0d"
      },
      "source": [
        "# Curva ROC y AUC.\n",
        "plot_roc_curve(rfc, X_test, Y_test)\n",
        "plt.show()"
      ],
      "execution_count": null,
      "outputs": [
        {
          "output_type": "display_data",
          "data": {
            "image/png": "[encoded data removed]",
            "text/plain": [
              "<Figure size 432x288 with 1 Axes>"
            ]
          },
          "metadata": {
            "needs_background": "light"
          }
        }
      ]
    },
    {
      "cell_type": "markdown",
      "metadata": {
        "id": "4hgJYDZzDyBt"
      },
      "source": [
        "## 8. Machine Learning - Redes neuronales / Multilayer Perceptron (MLP)"
      ]
    },
    {
      "cell_type": "code",
      "metadata": {
        "id": "9Ob_BqWVe0ZD"
      },
      "source": [
        "# Redes Neuronales / Multi-layer Perceptron (MLP) \n",
        "from sklearn.neural_network import MLPClassifier"
      ],
      "execution_count": null,
      "outputs": []
    },
    {
      "cell_type": "code",
      "metadata": {
        "id": "proAGOujEG6i"
      },
      "source": [
        "# Crear el modelo clasificador de Redes Neuronales.\n",
        "mlp = MLPClassifier(hidden_layer_sizes=(64,32), max_iter=1000)\n",
        "\n",
        "# Entrenar el modelo de Redes Neuronales\n",
        "mlp = mlp.fit(X_train, Y_train)"
      ],
      "execution_count": null,
      "outputs": []
    },
    {
      "cell_type": "code",
      "metadata": {
        "colab": {
          "base_uri": "https://localhost:8080/"
        },
        "id": "z2mCFeN6EO1s",
        "outputId": "4bb2c7f0-5853-4dcf-dbcf-42bd899b5d7c"
      },
      "source": [
        "# Compruebe cómo le fue al modelo en el conjunto de datos de prueba\n",
        "mlp_pred = mlp.predict(X_test)\n",
        "\n",
        "print(\"Accuracy: {:.4f}\\n\".format( accuracy_score(Y_test, mlp_pred) ))\n",
        "\n",
        "print(\"Confusion Matrix:\")\n",
        "print( confusion_matrix(Y_test, mlp_pred) )"
      ],
      "execution_count": null,
      "outputs": [
        {
          "output_type": "stream",
          "name": "stdout",
          "text": [
            "Accuracy: 0.5722\n",
            "\n",
            "Confusion Matrix:\n",
            "[[32 38]\n",
            " [39 71]]\n"
          ]
        }
      ]
    },
    {
      "cell_type": "code",
      "metadata": {
        "colab": {
          "base_uri": "https://localhost:8080/",
          "height": 279
        },
        "id": "aAvh_JvSEcOT",
        "outputId": "f6b7b890-ca8a-46db-d8e2-160d5703f85f"
      },
      "source": [
        "# Get the model metrics\n",
        "plot_roc_curve(mlp, X_test, Y_test)\n",
        "plt.show()"
      ],
      "execution_count": null,
      "outputs": [
        {
          "output_type": "display_data",
          "data": {
            "image/png": "[encoded data removed]",
            "text/plain": [
              "<Figure size 432x288 with 1 Axes>"
            ]
          },
          "metadata": {
            "needs_background": "light"
          }
        }
      ]
    },
    {
      "cell_type": "markdown",
      "metadata": {
        "id": "f6zGffMEhstm"
      },
      "source": [
        "## 9. Backtesting - Random Forest"
      ]
    },
    {
      "cell_type": "markdown",
      "metadata": {
        "id": "zZCmMnZ4Zv9p"
      },
      "source": [
        "#### 9.1. Cálculo de capital a lo largo de la venta de tiempo"
      ]
    },
    {
      "cell_type": "code",
      "metadata": {
        "colab": {
          "base_uri": "https://localhost:8080/",
          "height": 753
        },
        "id": "-Z8uBrBviUEQ",
        "outputId": "20892cea-9fa3-411e-a51f-a43b1d2ed249"
      },
      "source": [
        "N = len(rfc_pred)\n",
        "df_test = df.tail(N)\n",
        "df_test['Signals'] = rfc_pred\n",
        "df_test"
      ],
      "execution_count": null,
      "outputs": [
        {
          "output_type": "stream",
          "name": "stderr",
          "text": [
            "/usr/local/lib/python3.7/dist-packages/ipykernel_launcher.py:3: SettingWithCopyWarning: \n",
            "A value is trying to be set on a copy of a slice from a DataFrame.\n",
            "Try using .loc[row_indexer,col_indexer] = value instead\n",
            "\n",
            "See the caveats in the documentation: https://pandas.pydata.org/pandas-docs/stable/user_guide/indexing.html#returning-a-view-versus-a-copy\n",
            "  This is separate from the ipykernel package so we can avoid doing imports until\n"
          ]
        },
        {
          "output_type": "execute_result",
          "data": {
            "text/html": [
              "<div>\n",
              "<style scoped>\n",
              "    .dataframe tbody tr th:only-of-type {\n",
              "        vertical-align: middle;\n",
              "    }\n",
              "\n",
              "    .dataframe tbody tr th {\n",
              "        vertical-align: top;\n",
              "    }\n",
              "\n",
              "    .dataframe thead th {\n",
              "        text-align: right;\n",
              "    }\n",
              "</style>\n",
              "<table border=\"1\" class=\"dataframe\">\n",
              "  <thead>\n",
              "    <tr style=\"text-align: right;\">\n",
              "      <th></th>\n",
              "      <th>Open</th>\n",
              "      <th>High</th>\n",
              "      <th>Low</th>\n",
              "      <th>Close</th>\n",
              "      <th>Adj Close</th>\n",
              "      <th>Volume</th>\n",
              "      <th>EMA_5</th>\n",
              "      <th>EMA_20</th>\n",
              "      <th>EMA_50</th>\n",
              "      <th>EMA_100</th>\n",
              "      <th>RSI</th>\n",
              "      <th>ATR</th>\n",
              "      <th>WR</th>\n",
              "      <th>Target</th>\n",
              "      <th>Signals</th>\n",
              "    </tr>\n",
              "    <tr>\n",
              "      <th>Date</th>\n",
              "      <th></th>\n",
              "      <th></th>\n",
              "      <th></th>\n",
              "      <th></th>\n",
              "      <th></th>\n",
              "      <th></th>\n",
              "      <th></th>\n",
              "      <th></th>\n",
              "      <th></th>\n",
              "      <th></th>\n",
              "      <th></th>\n",
              "      <th></th>\n",
              "      <th></th>\n",
              "      <th></th>\n",
              "      <th></th>\n",
              "    </tr>\n",
              "  </thead>\n",
              "  <tbody>\n",
              "    <tr>\n",
              "      <th>2020-07-02</th>\n",
              "      <td>9231.139648</td>\n",
              "      <td>9274.962891</td>\n",
              "      <td>9036.623047</td>\n",
              "      <td>9123.410156</td>\n",
              "      <td>9123.410156</td>\n",
              "      <td>16338916796</td>\n",
              "      <td>1.005101</td>\n",
              "      <td>1.019298</td>\n",
              "      <td>1.009373</td>\n",
              "      <td>0.973117</td>\n",
              "      <td>44.032499</td>\n",
              "      <td>242.027955</td>\n",
              "      <td>-79.018729</td>\n",
              "      <td>-1</td>\n",
              "      <td>1</td>\n",
              "    </tr>\n",
              "    <tr>\n",
              "      <th>2020-07-03</th>\n",
              "      <td>9124.842773</td>\n",
              "      <td>9202.344727</td>\n",
              "      <td>9058.794922</td>\n",
              "      <td>9087.303711</td>\n",
              "      <td>9087.303711</td>\n",
              "      <td>13078970999</td>\n",
              "      <td>1.006063</td>\n",
              "      <td>1.021124</td>\n",
              "      <td>1.012859</td>\n",
              "      <td>0.977439</td>\n",
              "      <td>43.071245</td>\n",
              "      <td>234.993801</td>\n",
              "      <td>-84.141360</td>\n",
              "      <td>1</td>\n",
              "      <td>1</td>\n",
              "    </tr>\n",
              "    <tr>\n",
              "      <th>2020-07-04</th>\n",
              "      <td>9084.233398</td>\n",
              "      <td>9183.295898</td>\n",
              "      <td>9053.629883</td>\n",
              "      <td>9132.488281</td>\n",
              "      <td>9132.488281</td>\n",
              "      <td>12290528515</td>\n",
              "      <td>1.000724</td>\n",
              "      <td>1.014541</td>\n",
              "      <td>1.007540</td>\n",
              "      <td>0.973146</td>\n",
              "      <td>44.698268</td>\n",
              "      <td>227.470388</td>\n",
              "      <td>-77.730763</td>\n",
              "      <td>-1</td>\n",
              "      <td>1</td>\n",
              "    </tr>\n",
              "    <tr>\n",
              "      <th>2020-07-05</th>\n",
              "      <td>9126.090820</td>\n",
              "      <td>9162.183594</td>\n",
              "      <td>8977.015625</td>\n",
              "      <td>9073.942383</td>\n",
              "      <td>9073.942383</td>\n",
              "      <td>12903406143</td>\n",
              "      <td>1.004787</td>\n",
              "      <td>1.019079</td>\n",
              "      <td>1.013490</td>\n",
              "      <td>0.979832</td>\n",
              "      <td>42.984072</td>\n",
              "      <td>224.448787</td>\n",
              "      <td>-86.037010</td>\n",
              "      <td>1</td>\n",
              "      <td>1</td>\n",
              "    </tr>\n",
              "    <tr>\n",
              "      <th>2020-07-06</th>\n",
              "      <td>9072.849609</td>\n",
              "      <td>9375.474609</td>\n",
              "      <td>9058.664062</td>\n",
              "      <td>9375.474609</td>\n",
              "      <td>9375.474609</td>\n",
              "      <td>17889263252</td>\n",
              "      <td>0.981647</td>\n",
              "      <td>0.987608</td>\n",
              "      <td>0.981643</td>\n",
              "      <td>0.949342</td>\n",
              "      <td>52.984773</td>\n",
              "      <td>231.046055</td>\n",
              "      <td>-43.256881</td>\n",
              "      <td>-1</td>\n",
              "      <td>-1</td>\n",
              "    </tr>\n",
              "    <tr>\n",
              "      <th>...</th>\n",
              "      <td>...</td>\n",
              "      <td>...</td>\n",
              "      <td>...</td>\n",
              "      <td>...</td>\n",
              "      <td>...</td>\n",
              "      <td>...</td>\n",
              "      <td>...</td>\n",
              "      <td>...</td>\n",
              "      <td>...</td>\n",
              "      <td>...</td>\n",
              "      <td>...</td>\n",
              "      <td>...</td>\n",
              "      <td>...</td>\n",
              "      <td>...</td>\n",
              "      <td>...</td>\n",
              "    </tr>\n",
              "    <tr>\n",
              "      <th>2020-12-27</th>\n",
              "      <td>26439.373047</td>\n",
              "      <td>28288.839844</td>\n",
              "      <td>25922.769531</td>\n",
              "      <td>26272.294922</td>\n",
              "      <td>26272.294922</td>\n",
              "      <td>66479895605</td>\n",
              "      <td>0.959275</td>\n",
              "      <td>0.857064</td>\n",
              "      <td>0.749406</td>\n",
              "      <td>0.646090</td>\n",
              "      <td>76.670934</td>\n",
              "      <td>1251.859283</td>\n",
              "      <td>-21.739074</td>\n",
              "      <td>1</td>\n",
              "      <td>1</td>\n",
              "    </tr>\n",
              "    <tr>\n",
              "      <th>2020-12-28</th>\n",
              "      <td>26280.822266</td>\n",
              "      <td>27389.111328</td>\n",
              "      <td>26207.640625</td>\n",
              "      <td>27084.808594</td>\n",
              "      <td>27084.808594</td>\n",
              "      <td>49056742893</td>\n",
              "      <td>0.953665</td>\n",
              "      <td>0.847414</td>\n",
              "      <td>0.737634</td>\n",
              "      <td>0.634100</td>\n",
              "      <td>78.691073</td>\n",
              "      <td>1246.831527</td>\n",
              "      <td>-13.074509</td>\n",
              "      <td>1</td>\n",
              "      <td>1</td>\n",
              "    </tr>\n",
              "    <tr>\n",
              "      <th>2020-12-29</th>\n",
              "      <td>27081.810547</td>\n",
              "      <td>27370.720703</td>\n",
              "      <td>25987.298828</td>\n",
              "      <td>27362.437500</td>\n",
              "      <td>27362.437500</td>\n",
              "      <td>45265946774</td>\n",
              "      <td>0.962659</td>\n",
              "      <td>0.854167</td>\n",
              "      <td>0.740732</td>\n",
              "      <td>0.635039</td>\n",
              "      <td>79.349097</td>\n",
              "      <td>1256.587981</td>\n",
              "      <td>-10.304209</td>\n",
              "      <td>1</td>\n",
              "      <td>1</td>\n",
              "    </tr>\n",
              "    <tr>\n",
              "      <th>2020-12-30</th>\n",
              "      <td>27360.089844</td>\n",
              "      <td>28937.740234</td>\n",
              "      <td>27360.089844</td>\n",
              "      <td>28840.953125</td>\n",
              "      <td>28840.953125</td>\n",
              "      <td>51287442704</td>\n",
              "      <td>0.942206</td>\n",
              "      <td>0.828438</td>\n",
              "      <td>0.714415</td>\n",
              "      <td>0.610355</td>\n",
              "      <td>82.456164</td>\n",
              "      <td>1279.521010</td>\n",
              "      <td>-1.256475</td>\n",
              "      <td>1</td>\n",
              "      <td>1</td>\n",
              "    </tr>\n",
              "    <tr>\n",
              "      <th>2020-12-31</th>\n",
              "      <td>28841.574219</td>\n",
              "      <td>29244.876953</td>\n",
              "      <td>28201.992188</td>\n",
              "      <td>29001.720703</td>\n",
              "      <td>29001.720703</td>\n",
              "      <td>46754964848</td>\n",
              "      <td>0.957989</td>\n",
              "      <td>0.840622</td>\n",
              "      <td>0.721810</td>\n",
              "      <td>0.614755</td>\n",
              "      <td>82.759909</td>\n",
              "      <td>1262.618421</td>\n",
              "      <td>-3.431740</td>\n",
              "      <td>1</td>\n",
              "      <td>1</td>\n",
              "    </tr>\n",
              "  </tbody>\n",
              "</table>\n",
              "<p>180 rows × 15 columns</p>\n",
              "</div>"
            ],
            "text/plain": [
              "                    Open          High  ...  Target  Signals\n",
              "Date                                    ...                 \n",
              "2020-07-02   9231.139648   9274.962891  ...      -1        1\n",
              "2020-07-03   9124.842773   9202.344727  ...       1        1\n",
              "2020-07-04   9084.233398   9183.295898  ...      -1        1\n",
              "2020-07-05   9126.090820   9162.183594  ...       1        1\n",
              "2020-07-06   9072.849609   9375.474609  ...      -1       -1\n",
              "...                  ...           ...  ...     ...      ...\n",
              "2020-12-27  26439.373047  28288.839844  ...       1        1\n",
              "2020-12-28  26280.822266  27389.111328  ...       1        1\n",
              "2020-12-29  27081.810547  27370.720703  ...       1        1\n",
              "2020-12-30  27360.089844  28937.740234  ...       1        1\n",
              "2020-12-31  28841.574219  29244.876953  ...       1        1\n",
              "\n",
              "[180 rows x 15 columns]"
            ]
          },
          "metadata": {},
          "execution_count": 206
        }
      ]
    },
    {
      "cell_type": "code",
      "metadata": {
        "id": "On59u_WhGYY_",
        "colab": {
          "base_uri": "https://localhost:8080/"
        },
        "outputId": "2dd79679-6f96-4dc6-b8b9-900dc93ee4b8"
      },
      "source": [
        "# Crea una lista para almacenar el capital\n",
        "# Emezamos con 100 USD\n",
        "equity = [100]\n",
        "\n",
        "# Take Profit al 3% y Stop Loss al 1%\n",
        "TP = 0.03\n",
        "SL = 0.01\n",
        "\n",
        "pos = 0\n",
        "price = -1\n",
        "\n",
        "# Recorre la ventana de tiempo a partir del día 1\n",
        "for i in range(1, N):\n",
        "  \n",
        "  equity.append( equity[i-1] )\n",
        "\n",
        "  if pos == 1:\n",
        "    \n",
        "    if df_test['Close'][i] >= price*(1 + TP):\n",
        "      equity[i] *= 1 + TP\n",
        "      pos = 0\n",
        "    \n",
        "    elif df_test['Close'][i] <= price*(1 - SL):\n",
        "      equity[i] *= 1 - SL\n",
        "      pos = 0\n",
        "\n",
        "  elif pos == -1:\n",
        "\n",
        "    if df_test['Close'][i] <= price*(1 - TP):\n",
        "      equity[i] *= 1 + TP\n",
        "      pos = 0\n",
        "    \n",
        "    elif df_test['Close'][i] >= price*(1 + SL):\n",
        "      equity[i] *= 1 - SL\n",
        "      pos = 0\n",
        "\n",
        "  else:\n",
        "\n",
        "    if df_test['Signals'][i] != 0:\n",
        "      pos = df_test['Signals'][i]\n",
        "      price = df_test['Close'][i]\n",
        "\n",
        "df_test['Equity'] = equity\n"
      ],
      "execution_count": null,
      "outputs": [
        {
          "output_type": "stream",
          "name": "stderr",
          "text": [
            "/usr/local/lib/python3.7/dist-packages/ipykernel_launcher.py:43: SettingWithCopyWarning: \n",
            "A value is trying to be set on a copy of a slice from a DataFrame.\n",
            "Try using .loc[row_indexer,col_indexer] = value instead\n",
            "\n",
            "See the caveats in the documentation: https://pandas.pydata.org/pandas-docs/stable/user_guide/indexing.html#returning-a-view-versus-a-copy\n"
          ]
        }
      ]
    },
    {
      "cell_type": "markdown",
      "metadata": {
        "id": "x4KTqWfiZ4Tx"
      },
      "source": [
        "#### 9.2. Gráfico del capital"
      ]
    },
    {
      "cell_type": "code",
      "metadata": {
        "colab": {
          "base_uri": "https://localhost:8080/",
          "height": 513
        },
        "id": "77mvALXgVWJ9",
        "outputId": "6c26edcc-e16f-4702-eee1-f1f7ecbb189b"
      },
      "source": [
        "# Mostrar visualmente el equity a lo largo de la ventana de tiempo\n",
        "plt.figure(figsize=(16,8))\n",
        "plt.plot(df_test['Equity'])\n",
        "\n",
        "plt.title('Capital - Random Forest')\n",
        "plt.xlabel('Fecha')\n",
        "plt.ylabel('USD ($)')\n",
        "plt.show()"
      ],
      "execution_count": null,
      "outputs": [
        {
          "output_type": "display_data",
          "data": {
            "image/png": "[encoded data removed]",
            "text/plain": [
              "<Figure size 1152x576 with 1 Axes>"
            ]
          },
          "metadata": {
            "needs_background": "light"
          }
        }
      ]
    },
    {
      "cell_type": "markdown",
      "metadata": {
        "id": "BOW_qn-eaCAc"
      },
      "source": [
        "#### 9.3. Comparación con un portafolio de mercado"
      ]
    },
    {
      "cell_type": "code",
      "metadata": {
        "colab": {
          "base_uri": "https://localhost:8080/",
          "height": 472
        },
        "id": "BFfct0RpaLif",
        "outputId": "563a8a75-27de-4cf3-e634-b2f12210a348"
      },
      "source": [
        "mkt = yfin.download('^GSPC', start='2020-07-02', end='2020-12-31')\n",
        "mkt"
      ],
      "execution_count": null,
      "outputs": [
        {
          "output_type": "stream",
          "name": "stdout",
          "text": [
            "\r[*********************100%***********************]  1 of 1 completed\n"
          ]
        },
        {
          "output_type": "execute_result",
          "data": {
            "text/html": [
              "<div>\n",
              "<style scoped>\n",
              "    .dataframe tbody tr th:only-of-type {\n",
              "        vertical-align: middle;\n",
              "    }\n",
              "\n",
              "    .dataframe tbody tr th {\n",
              "        vertical-align: top;\n",
              "    }\n",
              "\n",
              "    .dataframe thead th {\n",
              "        text-align: right;\n",
              "    }\n",
              "</style>\n",
              "<table border=\"1\" class=\"dataframe\">\n",
              "  <thead>\n",
              "    <tr style=\"text-align: right;\">\n",
              "      <th></th>\n",
              "      <th>Open</th>\n",
              "      <th>High</th>\n",
              "      <th>Low</th>\n",
              "      <th>Close</th>\n",
              "      <th>Adj Close</th>\n",
              "      <th>Volume</th>\n",
              "    </tr>\n",
              "    <tr>\n",
              "      <th>Date</th>\n",
              "      <th></th>\n",
              "      <th></th>\n",
              "      <th></th>\n",
              "      <th></th>\n",
              "      <th></th>\n",
              "      <th></th>\n",
              "    </tr>\n",
              "  </thead>\n",
              "  <tbody>\n",
              "    <tr>\n",
              "      <th>2020-07-02</th>\n",
              "      <td>3143.639893</td>\n",
              "      <td>3165.810059</td>\n",
              "      <td>3124.520020</td>\n",
              "      <td>3130.010010</td>\n",
              "      <td>3130.010010</td>\n",
              "      <td>4190830000</td>\n",
              "    </tr>\n",
              "    <tr>\n",
              "      <th>2020-07-06</th>\n",
              "      <td>3155.290039</td>\n",
              "      <td>3182.590088</td>\n",
              "      <td>3155.290039</td>\n",
              "      <td>3179.719971</td>\n",
              "      <td>3179.719971</td>\n",
              "      <td>4736450000</td>\n",
              "    </tr>\n",
              "    <tr>\n",
              "      <th>2020-07-07</th>\n",
              "      <td>3166.439941</td>\n",
              "      <td>3184.149902</td>\n",
              "      <td>3142.929932</td>\n",
              "      <td>3145.320068</td>\n",
              "      <td>3145.320068</td>\n",
              "      <td>4563700000</td>\n",
              "    </tr>\n",
              "    <tr>\n",
              "      <th>2020-07-08</th>\n",
              "      <td>3153.070068</td>\n",
              "      <td>3171.800049</td>\n",
              "      <td>3136.530029</td>\n",
              "      <td>3169.939941</td>\n",
              "      <td>3169.939941</td>\n",
              "      <td>4927700000</td>\n",
              "    </tr>\n",
              "    <tr>\n",
              "      <th>2020-07-09</th>\n",
              "      <td>3176.169922</td>\n",
              "      <td>3179.780029</td>\n",
              "      <td>3115.699951</td>\n",
              "      <td>3152.050049</td>\n",
              "      <td>3152.050049</td>\n",
              "      <td>4829020000</td>\n",
              "    </tr>\n",
              "    <tr>\n",
              "      <th>...</th>\n",
              "      <td>...</td>\n",
              "      <td>...</td>\n",
              "      <td>...</td>\n",
              "      <td>...</td>\n",
              "      <td>...</td>\n",
              "      <td>...</td>\n",
              "    </tr>\n",
              "    <tr>\n",
              "      <th>2020-12-23</th>\n",
              "      <td>3693.419922</td>\n",
              "      <td>3711.239990</td>\n",
              "      <td>3689.280029</td>\n",
              "      <td>3690.010010</td>\n",
              "      <td>3690.010010</td>\n",
              "      <td>3772630000</td>\n",
              "    </tr>\n",
              "    <tr>\n",
              "      <th>2020-12-24</th>\n",
              "      <td>3694.030029</td>\n",
              "      <td>3703.820068</td>\n",
              "      <td>3689.320068</td>\n",
              "      <td>3703.060059</td>\n",
              "      <td>3703.060059</td>\n",
              "      <td>1885090000</td>\n",
              "    </tr>\n",
              "    <tr>\n",
              "      <th>2020-12-28</th>\n",
              "      <td>3723.030029</td>\n",
              "      <td>3740.510010</td>\n",
              "      <td>3723.030029</td>\n",
              "      <td>3735.360107</td>\n",
              "      <td>3735.360107</td>\n",
              "      <td>3527460000</td>\n",
              "    </tr>\n",
              "    <tr>\n",
              "      <th>2020-12-29</th>\n",
              "      <td>3750.010010</td>\n",
              "      <td>3756.120117</td>\n",
              "      <td>3723.310059</td>\n",
              "      <td>3727.040039</td>\n",
              "      <td>3727.040039</td>\n",
              "      <td>3387030000</td>\n",
              "    </tr>\n",
              "    <tr>\n",
              "      <th>2020-12-30</th>\n",
              "      <td>3736.189941</td>\n",
              "      <td>3744.629883</td>\n",
              "      <td>3730.209961</td>\n",
              "      <td>3732.040039</td>\n",
              "      <td>3732.040039</td>\n",
              "      <td>3145200000</td>\n",
              "    </tr>\n",
              "  </tbody>\n",
              "</table>\n",
              "<p>126 rows × 6 columns</p>\n",
              "</div>"
            ],
            "text/plain": [
              "                   Open         High  ...    Adj Close      Volume\n",
              "Date                                  ...                         \n",
              "2020-07-02  3143.639893  3165.810059  ...  3130.010010  4190830000\n",
              "2020-07-06  3155.290039  3182.590088  ...  3179.719971  4736450000\n",
              "2020-07-07  3166.439941  3184.149902  ...  3145.320068  4563700000\n",
              "2020-07-08  3153.070068  3171.800049  ...  3169.939941  4927700000\n",
              "2020-07-09  3176.169922  3179.780029  ...  3152.050049  4829020000\n",
              "...                 ...          ...  ...          ...         ...\n",
              "2020-12-23  3693.419922  3711.239990  ...  3690.010010  3772630000\n",
              "2020-12-24  3694.030029  3703.820068  ...  3703.060059  1885090000\n",
              "2020-12-28  3723.030029  3740.510010  ...  3735.360107  3527460000\n",
              "2020-12-29  3750.010010  3756.120117  ...  3727.040039  3387030000\n",
              "2020-12-30  3736.189941  3744.629883  ...  3732.040039  3145200000\n",
              "\n",
              "[126 rows x 6 columns]"
            ]
          },
          "metadata": {},
          "execution_count": 217
        }
      ]
    },
    {
      "cell_type": "code",
      "metadata": {
        "colab": {
          "base_uri": "https://localhost:8080/",
          "height": 455
        },
        "id": "Eu10Ha0eaLgY",
        "outputId": "1fc58226-7458-4155-c0be-60fd60dba648"
      },
      "source": [
        "mkt['Equity'] = (100/mkt['Close'][0])*mkt['Close']\n",
        "mkt"
      ],
      "execution_count": null,
      "outputs": [
        {
          "output_type": "execute_result",
          "data": {
            "text/html": [
              "<div>\n",
              "<style scoped>\n",
              "    .dataframe tbody tr th:only-of-type {\n",
              "        vertical-align: middle;\n",
              "    }\n",
              "\n",
              "    .dataframe tbody tr th {\n",
              "        vertical-align: top;\n",
              "    }\n",
              "\n",
              "    .dataframe thead th {\n",
              "        text-align: right;\n",
              "    }\n",
              "</style>\n",
              "<table border=\"1\" class=\"dataframe\">\n",
              "  <thead>\n",
              "    <tr style=\"text-align: right;\">\n",
              "      <th></th>\n",
              "      <th>Open</th>\n",
              "      <th>High</th>\n",
              "      <th>Low</th>\n",
              "      <th>Close</th>\n",
              "      <th>Adj Close</th>\n",
              "      <th>Volume</th>\n",
              "      <th>Equity</th>\n",
              "    </tr>\n",
              "    <tr>\n",
              "      <th>Date</th>\n",
              "      <th></th>\n",
              "      <th></th>\n",
              "      <th></th>\n",
              "      <th></th>\n",
              "      <th></th>\n",
              "      <th></th>\n",
              "      <th></th>\n",
              "    </tr>\n",
              "  </thead>\n",
              "  <tbody>\n",
              "    <tr>\n",
              "      <th>2020-07-02</th>\n",
              "      <td>3143.639893</td>\n",
              "      <td>3165.810059</td>\n",
              "      <td>3124.520020</td>\n",
              "      <td>3130.010010</td>\n",
              "      <td>3130.010010</td>\n",
              "      <td>4190830000</td>\n",
              "      <td>100.000000</td>\n",
              "    </tr>\n",
              "    <tr>\n",
              "      <th>2020-07-06</th>\n",
              "      <td>3155.290039</td>\n",
              "      <td>3182.590088</td>\n",
              "      <td>3155.290039</td>\n",
              "      <td>3179.719971</td>\n",
              "      <td>3179.719971</td>\n",
              "      <td>4736450000</td>\n",
              "      <td>101.588173</td>\n",
              "    </tr>\n",
              "    <tr>\n",
              "      <th>2020-07-07</th>\n",
              "      <td>3166.439941</td>\n",
              "      <td>3184.149902</td>\n",
              "      <td>3142.929932</td>\n",
              "      <td>3145.320068</td>\n",
              "      <td>3145.320068</td>\n",
              "      <td>4563700000</td>\n",
              "      <td>100.489138</td>\n",
              "    </tr>\n",
              "    <tr>\n",
              "      <th>2020-07-08</th>\n",
              "      <td>3153.070068</td>\n",
              "      <td>3171.800049</td>\n",
              "      <td>3136.530029</td>\n",
              "      <td>3169.939941</td>\n",
              "      <td>3169.939941</td>\n",
              "      <td>4927700000</td>\n",
              "      <td>101.275713</td>\n",
              "    </tr>\n",
              "    <tr>\n",
              "      <th>2020-07-09</th>\n",
              "      <td>3176.169922</td>\n",
              "      <td>3179.780029</td>\n",
              "      <td>3115.699951</td>\n",
              "      <td>3152.050049</td>\n",
              "      <td>3152.050049</td>\n",
              "      <td>4829020000</td>\n",
              "      <td>100.704152</td>\n",
              "    </tr>\n",
              "    <tr>\n",
              "      <th>...</th>\n",
              "      <td>...</td>\n",
              "      <td>...</td>\n",
              "      <td>...</td>\n",
              "      <td>...</td>\n",
              "      <td>...</td>\n",
              "      <td>...</td>\n",
              "      <td>...</td>\n",
              "    </tr>\n",
              "    <tr>\n",
              "      <th>2020-12-23</th>\n",
              "      <td>3693.419922</td>\n",
              "      <td>3711.239990</td>\n",
              "      <td>3689.280029</td>\n",
              "      <td>3690.010010</td>\n",
              "      <td>3690.010010</td>\n",
              "      <td>3772630000</td>\n",
              "      <td>117.891317</td>\n",
              "    </tr>\n",
              "    <tr>\n",
              "      <th>2020-12-24</th>\n",
              "      <td>3694.030029</td>\n",
              "      <td>3703.820068</td>\n",
              "      <td>3689.320068</td>\n",
              "      <td>3703.060059</td>\n",
              "      <td>3703.060059</td>\n",
              "      <td>1885090000</td>\n",
              "      <td>118.308250</td>\n",
              "    </tr>\n",
              "    <tr>\n",
              "      <th>2020-12-28</th>\n",
              "      <td>3723.030029</td>\n",
              "      <td>3740.510010</td>\n",
              "      <td>3723.030029</td>\n",
              "      <td>3735.360107</td>\n",
              "      <td>3735.360107</td>\n",
              "      <td>3527460000</td>\n",
              "      <td>119.340197</td>\n",
              "    </tr>\n",
              "    <tr>\n",
              "      <th>2020-12-29</th>\n",
              "      <td>3750.010010</td>\n",
              "      <td>3756.120117</td>\n",
              "      <td>3723.310059</td>\n",
              "      <td>3727.040039</td>\n",
              "      <td>3727.040039</td>\n",
              "      <td>3387030000</td>\n",
              "      <td>119.074381</td>\n",
              "    </tr>\n",
              "    <tr>\n",
              "      <th>2020-12-30</th>\n",
              "      <td>3736.189941</td>\n",
              "      <td>3744.629883</td>\n",
              "      <td>3730.209961</td>\n",
              "      <td>3732.040039</td>\n",
              "      <td>3732.040039</td>\n",
              "      <td>3145200000</td>\n",
              "      <td>119.234125</td>\n",
              "    </tr>\n",
              "  </tbody>\n",
              "</table>\n",
              "<p>126 rows × 7 columns</p>\n",
              "</div>"
            ],
            "text/plain": [
              "                   Open         High  ...      Volume      Equity\n",
              "Date                                  ...                        \n",
              "2020-07-02  3143.639893  3165.810059  ...  4190830000  100.000000\n",
              "2020-07-06  3155.290039  3182.590088  ...  4736450000  101.588173\n",
              "2020-07-07  3166.439941  3184.149902  ...  4563700000  100.489138\n",
              "2020-07-08  3153.070068  3171.800049  ...  4927700000  101.275713\n",
              "2020-07-09  3176.169922  3179.780029  ...  4829020000  100.704152\n",
              "...                 ...          ...  ...         ...         ...\n",
              "2020-12-23  3693.419922  3711.239990  ...  3772630000  117.891317\n",
              "2020-12-24  3694.030029  3703.820068  ...  1885090000  118.308250\n",
              "2020-12-28  3723.030029  3740.510010  ...  3527460000  119.340197\n",
              "2020-12-29  3750.010010  3756.120117  ...  3387030000  119.074381\n",
              "2020-12-30  3736.189941  3744.629883  ...  3145200000  119.234125\n",
              "\n",
              "[126 rows x 7 columns]"
            ]
          },
          "metadata": {},
          "execution_count": 218
        }
      ]
    },
    {
      "cell_type": "code",
      "metadata": {
        "colab": {
          "base_uri": "https://localhost:8080/",
          "height": 513
        },
        "id": "QcPVCBSUbZCj",
        "outputId": "647f7b4a-555b-4fbc-9518-c08e50a5a804"
      },
      "source": [
        "# Comparación de la estrategia con el portafolio de mercado\n",
        "plt.figure(figsize=(16,8))\n",
        "plt.plot(df_test['Equity'], color = 'green', label = 'Estrategia de trading (ML-Random Forest)')\n",
        "plt.plot(mkt['Equity'], color = 'red', label = 'Portafolio de mercado')\n",
        "\n",
        "plt.title('Comparación de la estrategia de ML con el portafolio de mercado')\n",
        "plt.xlabel('Fecha')\n",
        "plt.ylabel('Index (100)')\n",
        "plt.legend(loc='lower right')\n",
        "plt.show()"
      ],
      "execution_count": null,
      "outputs": [
        {
          "output_type": "display_data",
          "data": {
            "image/png": "[encoded data removed]",
            "text/plain": [
              "<Figure size 1152x576 with 1 Axes>"
            ]
          },
          "metadata": {
            "needs_background": "light"
          }
        }
      ]
    },
    {
      "cell_type": "code",
      "metadata": {
        "colab": {
          "base_uri": "https://localhost:8080/"
        },
        "id": "IOPBWPCGc6aL",
        "outputId": "c6963a17-4b9c-4cd2-853b-05b27bf0a3cd"
      },
      "source": [
        "# Desempeño de la estrategia planteada\n",
        "ret = 252*np.log(df_test['Equity']).diff().mean()\n",
        "print('Retorno esperado anulizado: {:.4f}'.format(ret))\n",
        "\n",
        "vol = np.sqrt(252)*np.log(df_test['Equity']).diff().std()\n",
        "print('Volatilidad anulizada: {:.4f}'.format(vol))\n",
        "\n",
        "sharpe_ratio = (ret - 0.01)/vol\n",
        "print('Sharpe Ratio: {:.4f}'.format(sharpe_ratio))"
      ],
      "execution_count": null,
      "outputs": [
        {
          "output_type": "stream",
          "name": "stdout",
          "text": [
            "Retorno esperado anulizado: 0.8115\n",
            "Volatilidad anulizada: 0.1886\n",
            "Sharpe Ratio: 4.2487\n"
          ]
        }
      ]
    },
    {
      "cell_type": "code",
      "metadata": {
        "colab": {
          "base_uri": "https://localhost:8080/"
        },
        "id": "taXd72Ghc6Pt",
        "outputId": "01656c28-92df-421b-dc70-a28b002e21f4"
      },
      "source": [
        "# Desempeño del portafolio de mercado\n",
        "ret = 252*np.log(mkt['Equity']).diff().mean()\n",
        "print('Retorno esperado anulizado: {:.4f}'.format(ret))\n",
        "\n",
        "vol = np.sqrt(252)*np.log(mkt['Equity']).diff().std()\n",
        "print('Volatilidad anulizada: {:.4f}'.format(vol))\n",
        "\n",
        "sharpe_ratio = (ret - 0.01)/vol\n",
        "print('Sharpe Ratio: {:.4f}'.format(sharpe_ratio))"
      ],
      "execution_count": null,
      "outputs": [
        {
          "output_type": "stream",
          "name": "stdout",
          "text": [
            "Retorno esperado anulizado: 0.3547\n",
            "Volatilidad anulizada: 0.1676\n",
            "Sharpe Ratio: 2.0570\n"
          ]
        }
      ]
    },
    {
      "cell_type": "code",
      "metadata": {
        "id": "tGeF-3Okm7Qi"
      },
      "source": [
        ""
      ],
      "execution_count": null,
      "outputs": []
    }
  ]
}